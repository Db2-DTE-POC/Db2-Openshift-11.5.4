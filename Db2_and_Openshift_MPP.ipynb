{
 "cells": [
  {
   "cell_type": "markdown",
   "metadata": {},
   "source": [
    "[![](./media/Db2_header_3.png)](https://www.ibm.com/demos/collection/db2-database/)\n",
    "<a id=\"top\">"
   ]
  },
  {
   "cell_type": "code",
   "execution_count": 1,
   "metadata": {
    "hide_input": true,
    "init_cell": true,
    "run_control": {},
    "scrolled": true
   },
   "outputs": [
    {
     "data": {
      "application/javascript": [
       "\n",
       "// Scan the entire notebook for cells that have refresh tags and execute them\n",
       "\n",
       "window.findCellIndicesByTag = function findCellIndicesByTag(tagName) {\n",
       "  return (Jupyter.notebook.get_cells()\n",
       "    .filter(\n",
       "      ({metadata: {tags}}) => tags && tags.includes(tagName)\n",
       "    )\n",
       "    .map((cell) => Jupyter.notebook.find_cell_index(cell))\n",
       "  );\n",
       "};\n",
       "\n",
       "window.refresh = function runRefreshCells() {\n",
       "    var c = window.findCellIndicesByTag('refresh');\n",
       "    Jupyter.notebook.execute_cells(c);\n",
       "};\n",
       "\n",
       "\n",
       "// Search for a Markdown cell that contains a comment line with the name of the code we are looking for\n",
       "\n",
       "window.copySearch = function copySearch(id) {\n",
       "    var cells = Jupyter.notebook.get_cells();\n",
       "    for(var i in cells) {\n",
       "        var cell = cells[i];\n",
       "        if (cell['cell_type'] == 'markdown') {\n",
       "            var text = cell.get_text();\n",
       "            var n = text.search(\"<!--\"+id+\"-->\");\n",
       "            if (n != -1) {  \n",
       "                var content = text.replace(/(^<!.*-->.*\\n?)|(```.*\\n?)/g, \"\");\n",
       "                navigator.clipboard.writeText(content);  \n",
       "                return\n",
       "                }\n",
       "        }\n",
       "    }\n",
       "    navigator.clipboard.writeText(\"Cell \" + id + \" not found\"); \n",
       "}\n",
       "\n",
       "// Highlight the background of the current cell and copy the contents onto the clipboard\n",
       "\n",
       "window.clipline = function clipline(codeIndex) {\n",
       "    var cell = document.getElementById(codeIndex);\n",
       "    var code = cell.textContent;\n",
       "    var parent = cell.parentNode;\n",
       "    parent.style.backgroundColor = \"lightBlue\"; // backcolor\n",
       "    navigator.clipboard.writeText(code);\n",
       "  \n",
       "    \n",
       "}\n",
       "\n",
       "window.reset = function reset(codeIndex) {\n",
       "    var cell = document.getElementById(codeIndex);\n",
       "    var parent = cell.parentNode;\n",
       "    parent.style.backgroundColor = \"#000000\" // backcolor\n",
       "}\n",
       "window.reset2 = function reset2(codeIndex) {\n",
       "    var cell = document.getElementById(codeIndex);\n",
       "    var parent = cell.parentNode;\n",
       "    parent.style.backgroundColor = \"white\" // backcolor\n",
       "}\n"
      ],
      "text/plain": [
       "<IPython.core.display.Javascript object>"
      ]
     },
     "metadata": {},
     "output_type": "display_data"
    },
    {
     "data": {
      "application/javascript": [
       "window.refresh()"
      ],
      "text/plain": [
       "<IPython.core.display.Javascript object>"
      ]
     },
     "metadata": {},
     "output_type": "display_data"
    }
   ],
   "source": [
    "%run refresh.ipynb"
   ]
  },
  {
   "cell_type": "markdown",
   "metadata": {},
   "source": [
    "# Installing Db2 on OpenShift with MPP\n",
    "\n",
    "This lab will take the user through the steps required to  deploy Db2 on an OpenShift Image in Db2 MPP Topography. This is excellent for Data Warehousing and ODS deployments. The requirement for this lab is that you have completed the installing Db2 on OpenShift lab previous to running this lab, as it creates the Db2 project and sets up the required environment leading up to the installation of Db2."
   ]
  },
  {
   "cell_type": "markdown",
   "metadata": {
    "hide_input": true
   },
   "source": [
    "### How to Copy Code and Examples\n",
    "Throughout this lab there are code samples that need to be copied and modified in a text editor. Any commands that need to be executed from a command line are found in grey boxes (an example is found below) has been designed to be easily copied."
   ]
  },
  {
   "cell_type": "code",
   "execution_count": 2,
   "metadata": {
    "hide_input": true,
    "scrolled": false,
    "tags": [
     "refresh"
    ]
   },
   "outputs": [
    {
     "data": {
      "text/html": [
       "<div style=\"margin-left: 35px; border-style: solid; border-width: 1px; padding: 10px;background-Color:black;\" >\n",
       "<p style=\" color:white ;font-family:courier;background-Color:black\"\n",
       "\"\"<pre id=112 onmousedown=\"window.clipline(112)\" onmouseup=\"window.reset(112)  \">\n",
       "Sample commands are found in cells like this.\n",
       "</pre>\n",
       "</div>\n"
      ],
      "text/plain": [
       "<IPython.core.display.HTML object>"
      ]
     },
     "metadata": {},
     "output_type": "display_data"
    }
   ],
   "source": [
    "%%html\n",
    "<div style=\"margin-left: 35px; border-style: solid; border-width: 1px; padding: 10px;background-Color:black;\" >\n",
    "<p style=\" color:white ;font-family:courier;background-Color:black\"\n",
    "\"\"<pre id=112 onmousedown=\"window.clipline(112)\" onmouseup=\"window.reset(112)  \">\n",
    "Sample commands are found in cells like this.\n",
    "</pre>\n",
    "</div>\n"
   ]
  },
  {
   "cell_type": "markdown",
   "metadata": {
    "hide_input": true
   },
   "source": [
    "The entire contents of the text in the cell will be automatically copied when you click on the cell. The color of the background will change color briefly to indicate that the copy has completed. To paste commands into a terminal window, use the key combination **Control-Shift-v**. \n",
    "\n",
    "It may be easier to keep a terminal window on top of the Jupyter notebook when running these commands. When you have a terminal window displayed, right click on the title bar and select `Always on Top` to keep the screen visible during the duration of the lab.\n",
    "\n",
    "### Open a Command Line\n",
    "click the below button to get started !"
   ]
  },
  {
   "cell_type": "code",
   "execution_count": 3,
   "metadata": {
    "hide_input": true,
    "scrolled": false,
    "tags": [
     "refresh"
    ]
   },
   "outputs": [
    {
     "data": {
      "application/vnd.jupyter.widget-view+json": {
       "model_id": "5f22c8a002234ded9fab174a459c7237",
       "version_major": 2,
       "version_minor": 0
      },
      "text/plain": [
       "Button(button_style='primary', description='Command Line', style=ButtonStyle())"
      ]
     },
     "metadata": {},
     "output_type": "display_data"
    },
    {
     "data": {
      "application/vnd.jupyter.widget-view+json": {
       "model_id": "1dfec60deefb46439bde470bf1d3e659",
       "version_major": 2,
       "version_minor": 0
      },
      "text/plain": [
       "Output()"
      ]
     },
     "metadata": {},
     "output_type": "display_data"
    }
   ],
   "source": [
    "import ipywidgets as widgets\n",
    "from IPython.display import display\n",
    "button = widgets.Button(description=\"Command Line\",button_style='primary')\n",
    "output = widgets.Output()\n",
    "display(button, output)\n",
    "def on_button_clicked(b):\n",
    "        ! gnome-terminal --window-with-profile=db2pot --working-directory=/home/db2pot\n",
    "button.on_click(on_button_clicked)"
   ]
  },
  {
   "cell_type": "markdown",
   "metadata": {},
   "source": [
    "## Passwords for this lab\n",
    "### Operating system login & Web App Login\n",
    "        UserID: db2pot\n",
    "        password: 123qwe123\n",
    "\n",
    "### Openshift Login \n",
    "        UserID: admin\n",
    "        password: redhat\n",
    "\n",
    "### Db2 Login\n",
    "        UserID: db2inst1\n",
    "        password: db2Inst1"
   ]
  },
  {
   "cell_type": "markdown",
   "metadata": {
    "hide_input": false
   },
   "source": [
    "## Setup Environment for MPP\n",
    "\n",
    "First we have to remove our OLTP environment. Please follow the steps in order otherwise you may create issues with your OpenShift cluster.\n",
    "\n",
    "Login as admin using password \"redhat\" using the below command and complete the following steps"
   ]
  },
  {
   "cell_type": "code",
   "execution_count": 4,
   "metadata": {
    "hide_input": true,
    "tags": [
     "refresh"
    ]
   },
   "outputs": [
    {
     "data": {
      "text/html": [
       "<div style=\"margin-left: 35px; border-style: solid; border-width: 1px; padding: 10px;background-Color:black\" >\n",
       "<p style=\" color:white ;font-family:courier;background-Color:black\"\n",
       "<pre id=2.1 onmousedown=\"window.clipline(2.1)\" onmouseup=\"window.reset(2.1)\">\n",
       "oc login -u admin -n db2\n"
      ],
      "text/plain": [
       "<IPython.core.display.HTML object>"
      ]
     },
     "metadata": {},
     "output_type": "display_data"
    }
   ],
   "source": [
    "%%html\n",
    "<div style=\"margin-left: 35px; border-style: solid; border-width: 1px; padding: 10px;background-Color:black\" >\n",
    "<p style=\" color:white ;font-family:courier;background-Color:black\"\n",
    "<pre id=2.1 onmousedown=\"window.clipline(2.1)\" onmouseup=\"window.reset(2.1)\">\n",
    "oc login -u admin -n db2"
   ]
  },
  {
   "cell_type": "code",
   "execution_count": 5,
   "metadata": {
    "hide_input": true,
    "scrolled": false,
    "tags": [
     "refresh"
    ]
   },
   "outputs": [
    {
     "data": {
      "text/html": [
       "<div style=\"margin-left: 35px; border-style: solid; border-width: 1px; padding: 10px;background-Color:black\" >\n",
       "<p style=\" color:white ;font-family:courier;background-Color:black\"\n",
       "<pre id=2 onmousedown=\"window.clipline(2)\" onmouseup=\"window.reset(2)\">\n",
       "helm delete db2u --purge\n"
      ],
      "text/plain": [
       "<IPython.core.display.HTML object>"
      ]
     },
     "metadata": {},
     "output_type": "display_data"
    }
   ],
   "source": [
    "%%html\n",
    "<div style=\"margin-left: 35px; border-style: solid; border-width: 1px; padding: 10px;background-Color:black\" >\n",
    "<p style=\" color:white ;font-family:courier;background-Color:black\"\n",
    "<pre id=2 onmousedown=\"window.clipline(2)\" onmouseup=\"window.reset(2)\">\n",
    "helm delete db2u --purge"
   ]
  },
  {
   "cell_type": "markdown",
   "metadata": {},
   "source": [
    "Monitor the Db2 pod deletion until there are no pods left running for Db2"
   ]
  },
  {
   "cell_type": "code",
   "execution_count": 6,
   "metadata": {
    "hide_input": true,
    "scrolled": false,
    "tags": [
     "refresh"
    ]
   },
   "outputs": [
    {
     "data": {
      "text/html": [
       "<div style=\"margin-left: 35px; border-style: solid; border-width: 1px; padding: 10px;background-Color:black\" >\n",
       "<p style=\" color:white ;font-family:courier;background-Color:black\"\n",
       "<pre id=2.2 onmousedown=\"window.clipline(2.2)\" onmouseup=\"window.reset(2.2)\">\n",
       "oc get pods\n"
      ],
      "text/plain": [
       "<IPython.core.display.HTML object>"
      ]
     },
     "metadata": {},
     "output_type": "display_data"
    }
   ],
   "source": [
    "%%html\n",
    "<div style=\"margin-left: 35px; border-style: solid; border-width: 1px; padding: 10px;background-Color:black\" >\n",
    "<p style=\" color:white ;font-family:courier;background-Color:black\"\n",
    "<pre id=2.2 onmousedown=\"window.clipline(2.2)\" onmouseup=\"window.reset(2.2)\">\n",
    "oc get pods"
   ]
  },
  {
   "cell_type": "markdown",
   "metadata": {},
   "source": [
    "Delete the Db Persistent volume and Claim and then the db2vol directory we created in the previous lab"
   ]
  },
  {
   "cell_type": "code",
   "execution_count": 7,
   "metadata": {
    "hide_input": true,
    "scrolled": false,
    "tags": [
     "refresh"
    ]
   },
   "outputs": [
    {
     "data": {
      "text/html": [
       "<div style=\"margin-left: 35px; border-style: solid; border-width: 1px; padding: 10px;background-Color:black\" >\n",
       "<p style=\" color:white ;font-family:courier;background-Color:black\"\n",
       "<pre id=2.4 onmousedown=\"window.clipline(2.4)\" onmouseup=\"window.reset(2.4)\">\n",
       "oc delete pvc db2pvc\n"
      ],
      "text/plain": [
       "<IPython.core.display.HTML object>"
      ]
     },
     "metadata": {},
     "output_type": "display_data"
    }
   ],
   "source": [
    "%%html\n",
    "<div style=\"margin-left: 35px; border-style: solid; border-width: 1px; padding: 10px;background-Color:black\" >\n",
    "<p style=\" color:white ;font-family:courier;background-Color:black\"\n",
    "<pre id=2.4 onmousedown=\"window.clipline(2.4)\" onmouseup=\"window.reset(2.4)\">\n",
    "oc delete pvc db2pvc"
   ]
  },
  {
   "cell_type": "code",
   "execution_count": 8,
   "metadata": {
    "hide_input": true,
    "scrolled": true,
    "tags": [
     "refresh"
    ]
   },
   "outputs": [
    {
     "data": {
      "text/html": [
       "<div style=\"margin-left: 35px; border-style: solid; border-width: 1px; padding: 10px;background-Color:black\" >\n",
       "<p style=\" color:white ;font-family:courier;background-Color:black\"\n",
       "<pre id=2.5 onmousedown=\"window.clipline(2.5)\" onmouseup=\"window.reset(2.5)\">\n",
       "oc delete pv db2-vol\n"
      ],
      "text/plain": [
       "<IPython.core.display.HTML object>"
      ]
     },
     "metadata": {},
     "output_type": "display_data"
    }
   ],
   "source": [
    "%%html\n",
    "<div style=\"margin-left: 35px; border-style: solid; border-width: 1px; padding: 10px;background-Color:black\" >\n",
    "<p style=\" color:white ;font-family:courier;background-Color:black\"\n",
    "<pre id=2.5 onmousedown=\"window.clipline(2.5)\" onmouseup=\"window.reset(2.5)\">\n",
    "oc delete pv db2-vol"
   ]
  },
  {
   "cell_type": "code",
   "execution_count": 9,
   "metadata": {
    "hide_input": false,
    "tags": [
     "refresh"
    ]
   },
   "outputs": [
    {
     "data": {
      "text/html": [
       "<div style=\"margin-left: 35px; border-style: solid; border-width: 1px; padding: 10px;background-Color:black\" >\n",
       "<p style=\" color:white ;font-family:courier;background-Color:black\"\n",
       "<pre id=2.3 onmousedown=\"window.clipline(2.3)\" onmouseup=\"window.reset(2.3)\">\n",
       "sudo rm -rf /data/db2vol1\n"
      ],
      "text/plain": [
       "<IPython.core.display.HTML object>"
      ]
     },
     "metadata": {},
     "output_type": "display_data"
    }
   ],
   "source": [
    "%%html\n",
    "<div style=\"margin-left: 35px; border-style: solid; border-width: 1px; padding: 10px;background-Color:black\" >\n",
    "<p style=\" color:white ;font-family:courier;background-Color:black\"\n",
    "<pre id=2.3 onmousedown=\"window.clipline(2.3)\" onmouseup=\"window.reset(2.3)\">\n",
    "sudo rm -rf /data/db2vol1"
   ]
  },
  {
   "cell_type": "markdown",
   "metadata": {
    "hide_input": false
   },
   "source": [
    "### Creating the DB2 Environment for MPP"
   ]
  },
  {
   "cell_type": "markdown",
   "metadata": {
    "hide_input": false
   },
   "source": [
    "The second step will be to create the directory with the right permissions for our Db2s persistent volume (PV) and volume claim (PVC) to be built.\n",
    "Db2 Supports host path file systems including local and attached storage as well as Cloud or shared storage such as NFS, PortWorks etc."
   ]
  },
  {
   "cell_type": "code",
   "execution_count": 10,
   "metadata": {
    "hide_input": false,
    "scrolled": true,
    "tags": [
     "refresh"
    ]
   },
   "outputs": [
    {
     "data": {
      "text/html": [
       "<div style=\"margin-left: 35px; border-style: solid; border-width: 1px; padding: 10px;background-Color:black\" >\n",
       "<p style=\" color:white ;font-family:courier;background-Color:black\"\n",
       "<pre id=3 onmousedown=\"window.clipline(3)\" onmouseup=\" window.reset(3)\">\n",
       "sudo mkdir -p /data/db2vol1\n"
      ],
      "text/plain": [
       "<IPython.core.display.HTML object>"
      ]
     },
     "metadata": {},
     "output_type": "display_data"
    }
   ],
   "source": [
    "%%html\n",
    "<div style=\"margin-left: 35px; border-style: solid; border-width: 1px; padding: 10px;background-Color:black\" >\n",
    "<p style=\" color:white ;font-family:courier;background-Color:black\"\n",
    "<pre id=3 onmousedown=\"window.clipline(3)\" onmouseup=\" window.reset(3)\">\n",
    "sudo mkdir -p /data/db2vol1"
   ]
  },
  {
   "cell_type": "code",
   "execution_count": 11,
   "metadata": {
    "hide_input": false,
    "scrolled": true,
    "tags": [
     "refresh"
    ]
   },
   "outputs": [
    {
     "data": {
      "text/html": [
       "<div style=\"margin-left: 35px; border-style: solid; border-width: 1px; padding: 10px;background-Color:black\" >\n",
       "<p style=\" color:white ;font-family:courier;background-Color:black\"\n",
       "<pre id=4 onmousedown=\"window.clipline(4)\" onmouseup=\"window.reset(4)\">\n",
       "sudo chmod 777 -R /data/db2vol1\n"
      ],
      "text/plain": [
       "<IPython.core.display.HTML object>"
      ]
     },
     "metadata": {},
     "output_type": "display_data"
    }
   ],
   "source": [
    "%%html\n",
    "<div style=\"margin-left: 35px; border-style: solid; border-width: 1px; padding: 10px;background-Color:black\" >\n",
    "<p style=\" color:white ;font-family:courier;background-Color:black\"\n",
    "<pre id=4 onmousedown=\"window.clipline(4)\" onmouseup=\"window.reset(4)\">\n",
    "sudo chmod 777 -R /data/db2vol1"
   ]
  },
  {
   "cell_type": "code",
   "execution_count": 12,
   "metadata": {
    "hide_input": false,
    "scrolled": true,
    "tags": [
     "refresh"
    ]
   },
   "outputs": [
    {
     "data": {
      "text/html": [
       "<div style=\"margin-left: 35px; border-style: solid; border-width: 1px; padding: 10px;background-Color:black\" >\n",
       "<p style=\" color:white ;font-family:courier;background-Color:black\"\n",
       "<pre id=5 onmousedown=\"window.clipline(5)\" onmouseup=\"window.reset(5)\">\n",
       "sudo chgrp root -R /data/db2vol1\n"
      ],
      "text/plain": [
       "<IPython.core.display.HTML object>"
      ]
     },
     "metadata": {},
     "output_type": "display_data"
    }
   ],
   "source": [
    "%%html\n",
    "<div style=\"margin-left: 35px; border-style: solid; border-width: 1px; padding: 10px;background-Color:black\" >\n",
    "<p style=\" color:white ;font-family:courier;background-Color:black\"\n",
    "<pre id=5 onmousedown=\"window.clipline(5)\" onmouseup=\"window.reset(5)\">\n",
    "sudo chgrp root -R /data/db2vol1\n"
   ]
  },
  {
   "cell_type": "code",
   "execution_count": 13,
   "metadata": {
    "hide_input": false,
    "scrolled": false,
    "tags": [
     "refresh"
    ]
   },
   "outputs": [
    {
     "data": {
      "text/html": [
       "<div style=\"margin-left: 35px; border-style: solid; border-width: 1px; padding: 10px;background-Color:black;\" >\n",
       "<p style=\" color:white ;font-family:courier;background-Color:black\"\n",
       "<pre id=6.1 onmousedown=\"window.clipline(6.1)\" onmouseup=\"  window.reset(6.1)\">\n",
       "sudo restorecon -Rv /data/db2vol1\n"
      ],
      "text/plain": [
       "<IPython.core.display.HTML object>"
      ]
     },
     "metadata": {},
     "output_type": "display_data"
    }
   ],
   "source": [
    "%%html\n",
    "<div style=\"margin-left: 35px; border-style: solid; border-width: 1px; padding: 10px;background-Color:black;\" >\n",
    "<p style=\" color:white ;font-family:courier;background-Color:black\"\n",
    "<pre id=6.1 onmousedown=\"window.clipline(6.1)\" onmouseup=\"  window.reset(6.1)\">\n",
    "sudo restorecon -Rv /data/db2vol1"
   ]
  },
  {
   "cell_type": "code",
   "execution_count": 14,
   "metadata": {
    "hide_input": false,
    "scrolled": true,
    "tags": [
     "refresh"
    ]
   },
   "outputs": [
    {
     "data": {
      "text/html": [
       "<div style=\"margin-left: 35px; border-style: solid; border-width: 1px; padding: 10px;background-Color:black;\" >\n",
       "<p style=\" color:white ;font-family:courier;background-Color:black\"\n",
       "<pre id=7 onmousedown=\"window.clipline(7)\" onmouseup=\"window.reset(7)\">\n",
       "sudo semanage fcontext -a -t container_file_t \"/data/db2vol1(/.*)?\"\n"
      ],
      "text/plain": [
       "<IPython.core.display.HTML object>"
      ]
     },
     "metadata": {},
     "output_type": "display_data"
    }
   ],
   "source": [
    "%%html\n",
    "<div style=\"margin-left: 35px; border-style: solid; border-width: 1px; padding: 10px;background-Color:black;\" >\n",
    "<p style=\" color:white ;font-family:courier;background-Color:black\"\n",
    "<pre id=7 onmousedown=\"window.clipline(7)\" onmouseup=\"window.reset(7)\">\n",
    "sudo semanage fcontext -a -t container_file_t \"/data/db2vol1(/.*)?\""
   ]
  },
  {
   "cell_type": "markdown",
   "metadata": {
    "hide_input": false
   },
   "source": [
    "### Create the Db2 Persistent Volume and Volume Claim"
   ]
  },
  {
   "cell_type": "markdown",
   "metadata": {},
   "source": [
    "We can now re-use the file to create the Persistent Volume and Claim we used in the previous lab."
   ]
  },
  {
   "cell_type": "code",
   "execution_count": 15,
   "metadata": {
    "hide_input": true,
    "scrolled": false,
    "tags": [
     "refresh"
    ]
   },
   "outputs": [
    {
     "data": {
      "text/html": [
       "<div style=\"margin-left: 35px; border-style: solid; border-width: 1px; padding: 10px;background-Color:black\" >\n",
       "<p style=\" color:white ;font-family:courier;background-Color:black\"\n",
       "<pre id=17 onmousedown=\"window.clipline(17)\" onmouseup=\" window.reset(17)\">\n",
       "oc apply -f db2vol.yaml \n"
      ],
      "text/plain": [
       "<IPython.core.display.HTML object>"
      ]
     },
     "metadata": {},
     "output_type": "display_data"
    }
   ],
   "source": [
    "%%html\n",
    "<div style=\"margin-left: 35px; border-style: solid; border-width: 1px; padding: 10px;background-Color:black\" >\n",
    "<p style=\" color:white ;font-family:courier;background-Color:black\"\n",
    "<pre id=17 onmousedown=\"window.clipline(17)\" onmouseup=\" window.reset(17)\">\n",
    "oc apply -f db2vol.yaml "
   ]
  },
  {
   "cell_type": "markdown",
   "metadata": {},
   "source": [
    "### Now Lets Install Db2 !"
   ]
  },
  {
   "cell_type": "markdown",
   "metadata": {},
   "source": [
    "First we are going to move to the db2 deployment directory then run the Db2 install with the required parameters for a small install"
   ]
  },
  {
   "cell_type": "code",
   "execution_count": 16,
   "metadata": {
    "hide_input": true,
    "scrolled": false,
    "tags": [
     "refresh"
    ]
   },
   "outputs": [
    {
     "data": {
      "text/html": [
       "<div style=\"margin-left: 35px; border-style: solid; border-width: 1px; padding: 10px;background-Color:black\" >\n",
       "<p style=\" color:white ;font-family:courier;background-Color:black\"\n",
       "<pre id=18 onmousedown=\"window.clipline(18)\" onmouseup=\" window.reset(18)\">\n",
       "cd /home/db2pot/charts/stable/ibm-db2warehouse/ibm_cloud_pak/pak_extensions/common\n"
      ],
      "text/plain": [
       "<IPython.core.display.HTML object>"
      ]
     },
     "metadata": {},
     "output_type": "display_data"
    }
   ],
   "source": [
    "%%html\n",
    "<div style=\"margin-left: 35px; border-style: solid; border-width: 1px; padding: 10px;background-Color:black\" >\n",
    "<p style=\" color:white ;font-family:courier;background-Color:black\"\n",
    "<pre id=18 onmousedown=\"window.clipline(18)\" onmouseup=\" window.reset(18)\">\n",
    "cd /home/db2pot/charts/stable/ibm-db2warehouse/ibm_cloud_pak/pak_extensions/common"
   ]
  },
  {
   "cell_type": "markdown",
   "metadata": {},
   "source": [
    "## Update the \"helm_options\" File\n",
    "We want to deploy a 4 Data Partion Single Node Db2 environment.To do this we need to pass to the database installation command a configuration file. This is not necessary for a single partition install, only if you wish to deploy mpp. As we are creating a options file we will also need to place storage settings in the file as well.\n",
    "in the above dirctory create a file called \"my_options\" and the following settings\n",
    "\n",
    "existing-pvc=\"db2pvc\"\n",
    "mln.total=\"4\"\n",
    "images.db2u.replicas=\"1\"\n",
    "\n",
    "\n",
    "cd /home/db2pot/charts/stable/ibm-db2warehouse/ibm_cloud_pak/pak_extensions/common\n"
   ]
  },
  {
   "cell_type": "code",
   "execution_count": 17,
   "metadata": {
    "hide_input": false,
    "scrolled": false,
    "tags": [
     "refresh"
    ]
   },
   "outputs": [
    {
     "data": {
      "text/html": [
       "<div style=\"margin-left: 35px; border-style: solid; border-width: 1px; padding: 10px;background-Color:black\" >\n",
       "<p style=\" color:white ;font-family:courier;background-Color:black\"\n",
       "<pre id=19 onmousedown=\"window.clipline(19)\" onmouseup=\"window.reset(19)\">\n",
       "./db2u-install --db-type db2wh --namespace db2 --release-name db2u  --tiller-namespace tiller --memory-size 18Gi --helm-opt-file ./my_options\n"
      ],
      "text/plain": [
       "<IPython.core.display.HTML object>"
      ]
     },
     "metadata": {},
     "output_type": "display_data"
    }
   ],
   "source": [
    "%%html\n",
    "<div style=\"margin-left: 35px; border-style: solid; border-width: 1px; padding: 10px;background-Color:black\" >\n",
    "<p style=\" color:white ;font-family:courier;background-Color:black\"\n",
    "<pre id=19 onmousedown=\"window.clipline(19)\" onmouseup=\"window.reset(19)\">\n",
    "./db2u-install --db-type db2wh --namespace db2 --release-name db2u  --tiller-namespace tiller --memory-size 18Gi --helm-opt-file ./my_options"
   ]
  },
  {
   "cell_type": "markdown",
   "metadata": {},
   "source": [
    "The above installs a Db2 database with configurations for OLTP, in our Namespace / Project Db2, using our defined Db2 Persistent volume claim and sets its cpu limit to 2 cores and a memory allocation of 3gb"
   ]
  },
  {
   "cell_type": "markdown",
   "metadata": {},
   "source": [
    "### Now we are going to monitor the deployments Progress"
   ]
  },
  {
   "cell_type": "markdown",
   "metadata": {},
   "source": [
    "First of all we are going to get the status of the pods, you will have to run this command multiple times as it will take a few minutes for the install to download the containers and install them in your project."
   ]
  },
  {
   "cell_type": "code",
   "execution_count": 18,
   "metadata": {
    "hide_input": true,
    "scrolled": false,
    "tags": [
     "refresh"
    ]
   },
   "outputs": [
    {
     "data": {
      "text/html": [
       "<div style=\"margin-left: 35px; border-style: solid; border-width: 1px; padding: 10px;background-Color:black\" >\n",
       "<p style=\" color:white ;font-family:courier;background-Color:black\"\n",
       "<pre id=20 onmousedown=\"window.clipline(20)\" onmouseup=\"window.reset(20)\">\n",
       "oc get pods\n"
      ],
      "text/plain": [
       "<IPython.core.display.HTML object>"
      ]
     },
     "metadata": {},
     "output_type": "display_data"
    }
   ],
   "source": [
    "%%html\n",
    "<div style=\"margin-left: 35px; border-style: solid; border-width: 1px; padding: 10px;background-Color:black\" >\n",
    "<p style=\" color:white ;font-family:courier;background-Color:black\"\n",
    "<pre id=20 onmousedown=\"window.clipline(20)\" onmouseup=\"window.reset(20)\">\n",
    "oc get pods"
   ]
  },
  {
   "cell_type": "markdown",
   "metadata": {
    "hide_input": true
   },
   "source": [
    "When your installation is complete you should see the following status with the db2u-db2u-0 pod status at Running and the ready status as 1/1"
   ]
  },
  {
   "cell_type": "raw",
   "metadata": {
    "hide_input": false
   },
   "source": [
    "NAME                                READY       STATUS  RESTARTS    AGE\n",
    "db2u-db2u-0                         1/1         Running     0       10m\n",
    "db2u-db2u-ldap-74b767d76-sbct6      1/1         Running     0       10m\n",
    "db2u-db2u-nodes-cfg-job-7m7bz       0/1         Completed   0       10m\n",
    "db2u-db2u-restore-morph-job-bnxfx   0/1         Completed   0       10m\n",
    "db2u-db2u-sqllib-shared-job-bjrwc   0/1         Completed   0       10m\n",
    "db2u-db2u-tools-c47c5b565-svwcw     1/1         Running     0       10m\n",
    "db2u-etcd-0                         1/1         Running     0       10m\n",
    "db2u-etcd-1                         1/1         Running     0       10m\n",
    "db2u-etcd-2                         1/1         Running     0       10m"
   ]
  },
  {
   "cell_type": "markdown",
   "metadata": {},
   "source": [
    "If you want to just get incremental updates of changes to the pods status you can try running \"oc get pods -w\". This command will give you the current status at the time of running and any incremental changes in status.\n",
    "\n",
    "The last pod status change you will see is the `db2u-db2u-restore-morph` pod/job status will be `Completed`. Ctrl-C to quit out at that point."
   ]
  },
  {
   "cell_type": "markdown",
   "metadata": {},
   "source": [
    "## Monitoring Activities from the Openshift Console\n",
    "You can get an overview of the activities within the cluster by using the Openshift dashboard.\n",
    "\n",
    "Click on here and login as **user:admin / pwd:redhat** https://localhost:8443/login\n",
    "\n",
    "Once in the console, Navigate to the project Db2, click on applications then select pods to view pod status and browse from there."
   ]
  },
  {
   "cell_type": "markdown",
   "metadata": {},
   "source": [
    "[![](./media/Openshift.png)](https://localhost:8443/login)\n",
    "<a id=\"top\">"
   ]
  },
  {
   "cell_type": "markdown",
   "metadata": {},
   "source": [
    "## Finding our what address to connect to Db2 on"
   ]
  },
  {
   "cell_type": "markdown",
   "metadata": {},
   "source": [
    "Lets find out the ports that we can connect to db2 on, first run the following command"
   ]
  },
  {
   "cell_type": "code",
   "execution_count": 19,
   "metadata": {
    "hide_input": true,
    "scrolled": true,
    "tags": [
     "refresh"
    ]
   },
   "outputs": [
    {
     "data": {
      "text/html": [
       "<div style=\"margin-left: 35px; border-style: solid; border-width: 1px; padding: 10px;background-Color:black\" >\n",
       "<p style=\" color:white ;font-family:courier;background-Color:black\"\n",
       "<pre id=21 onmousedown=\"window.clipline(21)\" onmouseup=\"  window.reset(21)\">\n",
       "oc get svc\n",
       "</div>\n"
      ],
      "text/plain": [
       "<IPython.core.display.HTML object>"
      ]
     },
     "metadata": {},
     "output_type": "display_data"
    }
   ],
   "source": [
    "%%html\n",
    "<div style=\"margin-left: 35px; border-style: solid; border-width: 1px; padding: 10px;background-Color:black\" >\n",
    "<p style=\" color:white ;font-family:courier;background-Color:black\"\n",
    "<pre id=21 onmousedown=\"window.clipline(21)\" onmouseup=\"  window.reset(21)\">\n",
    "oc get svc\n",
    "</div>"
   ]
  },
  {
   "cell_type": "markdown",
   "metadata": {},
   "source": [
    "```\n",
    "NAME                 TYPE        CLUSTER-IP       EXTERNAL-IP   PORT(S)                                   AGE\n",
    "db2u-db2u            ClusterIP   172.30.96.174    <none>        50000/TCP,50001/TCP,25000/TCP,25001/TCP,…  2m\n",
    "db2u-db2u-engn-svc   NodePort    172.30.169.115   <none>        50000:31020/TCP,50001:31578/TCP            2m\n",
    "db2u-db2u-internal   ClusterIP   None             <none>        50000/TCP,9443/TCP                         2m\n",
    "db2u-db2u-ldap       NodePort    172.30.122.233   <none>        389:30154/TCP                              2m\n",
    "db2u-etcd            ClusterIP   None             <none>        2380/TCP,2379/TCP                          2m\n",
    "```"
   ]
  },
  {
   "cell_type": "markdown",
   "metadata": {},
   "source": [
    " Db2 exposes its service externally via the db2u-db2u-engn-svc service. In this case, 31020 is the non-SSL port Db2 will be listening on, and 31578 is the port that will support SSL connectivity. They are mapped to the db2u-db2u-0 50000/50001 ports that Db2 operates on."
   ]
  },
  {
   "cell_type": "markdown",
   "metadata": {},
   "source": [
    "To get your IP address for your server for external communication, use the following (if you are running on VMware):"
   ]
  },
  {
   "cell_type": "code",
   "execution_count": 20,
   "metadata": {
    "hide_input": true,
    "scrolled": true,
    "tags": [
     "refresh"
    ]
   },
   "outputs": [
    {
     "data": {
      "text/html": [
       "<div style=\"margin-left: 35px; border-style: solid; border-width: 1px; padding: 10px;background-Color:black\" >\n",
       "<p style=\" color:white ;font-family:courier;background-Color:black\"\n",
       "<pre id=22 onmousedown=\"window.clipline(22)\" onmouseup=\" window.reset(22)\">\n",
       "ip addr show | grep 'scope global noprefixroute dynamic'\n"
      ],
      "text/plain": [
       "<IPython.core.display.HTML object>"
      ]
     },
     "metadata": {},
     "output_type": "display_data"
    }
   ],
   "source": [
    "%%html\n",
    "<div style=\"margin-left: 35px; border-style: solid; border-width: 1px; padding: 10px;background-Color:black\" >\n",
    "<p style=\" color:white ;font-family:courier;background-Color:black\"\n",
    "<pre id=22 onmousedown=\"window.clipline(22)\" onmouseup=\" window.reset(22)\">\n",
    "ip addr show | grep 'scope global noprefixroute dynamic'"
   ]
  },
  {
   "cell_type": "markdown",
   "metadata": {},
   "source": [
    "In this example this is what it shows, you can use the inet address to connect to Db2."
   ]
  },
  {
   "cell_type": "markdown",
   "metadata": {},
   "source": [
    "```\n",
    "result: inet 192.168.154.132/24 brd 192.168.154.255 scope global noprefixroute dynamic ens33\n",
    "```"
   ]
  },
  {
   "cell_type": "markdown",
   "metadata": {},
   "source": [
    "## Lets Connect !"
   ]
  },
  {
   "cell_type": "markdown",
   "metadata": {},
   "source": [
    "The following commands are run using the Jupyter notebook. Select each cell and hit **Shift-Enter** keys together or chose the run button at the top of your screen to execute the code. Alternatively you can place your cursor on the grey sell and select the Run button at the top of the screen."
   ]
  },
  {
   "cell_type": "code",
   "execution_count": 31,
   "metadata": {},
   "outputs": [
    {
     "name": "stdout",
     "output_type": "stream",
     "text": [
      "Db2 Extensions Loaded.\n"
     ]
    }
   ],
   "source": [
    "%run db2.ipynb"
   ]
  },
  {
   "cell_type": "code",
   "execution_count": 38,
   "metadata": {
    "scrolled": false
   },
   "outputs": [
    {
     "name": "stdout",
     "output_type": "stream",
     "text": [
      "Connection successful.\n"
     ]
    }
   ],
   "source": [
    "%sql connect to bludb user db2inst1 using redhat host 192.168.154.129  port 31382"
   ]
  },
  {
   "cell_type": "markdown",
   "metadata": {},
   "source": [
    "If the connection is not successful, it may be due to Db2 not having started completely. You may need to wait for a few minutes for Db2 to start accepting connections. Once you do have a connection, you need to add some sample data to the database. The BLUDB database does not have the sample tables in it, so issue the following command to populate the EMPLOYEE and DEPARTMENT tables.\n",
    "\n",
    "Note if you run TOP in your command window, as we are running inside the Openshift node you will see the db2sycs processes running. 1 per data partition deployed."
   ]
  },
  {
   "cell_type": "markdown",
   "metadata": {},
   "source": [
    "### Lets ask Db2 how many Data Partitions it has created"
   ]
  },
  {
   "cell_type": "code",
   "execution_count": 33,
   "metadata": {
    "scrolled": true
   },
   "outputs": [
    {
     "data": {
      "text/html": [
       "<div>\n",
       "<style scoped>\n",
       "    .dataframe tbody tr th:only-of-type {\n",
       "        vertical-align: middle;\n",
       "    }\n",
       "\n",
       "    .dataframe tbody tr th {\n",
       "        vertical-align: top;\n",
       "    }\n",
       "\n",
       "    .dataframe thead th {\n",
       "        text-align: right;\n",
       "    }\n",
       "</style>\n",
       "<table border=\"1\" class=\"dataframe\">\n",
       "  <thead>\n",
       "    <tr style=\"text-align: right;\">\n",
       "      <th></th>\n",
       "      <th>DBPGNAME</th>\n",
       "      <th>DBPARTITIONNUM</th>\n",
       "      <th>IN_USE</th>\n",
       "    </tr>\n",
       "  </thead>\n",
       "  <tbody>\n",
       "    <tr>\n",
       "      <th>0</th>\n",
       "      <td>IBMCATGROUP</td>\n",
       "      <td>0</td>\n",
       "      <td>Y</td>\n",
       "    </tr>\n",
       "    <tr>\n",
       "      <th>1</th>\n",
       "      <td>IBMDEFAULTGROUP</td>\n",
       "      <td>0</td>\n",
       "      <td>Y</td>\n",
       "    </tr>\n",
       "    <tr>\n",
       "      <th>2</th>\n",
       "      <td>IBMDEFAULTGROUP</td>\n",
       "      <td>1</td>\n",
       "      <td>Y</td>\n",
       "    </tr>\n",
       "    <tr>\n",
       "      <th>3</th>\n",
       "      <td>IBMDEFAULTGROUP</td>\n",
       "      <td>2</td>\n",
       "      <td>Y</td>\n",
       "    </tr>\n",
       "    <tr>\n",
       "      <th>4</th>\n",
       "      <td>IBMDEFAULTGROUP</td>\n",
       "      <td>3</td>\n",
       "      <td>Y</td>\n",
       "    </tr>\n",
       "  </tbody>\n",
       "</table>\n",
       "</div>"
      ],
      "text/plain": [
       "          DBPGNAME  DBPARTITIONNUM IN_USE\n",
       "0      IBMCATGROUP               0      Y\n",
       "1  IBMDEFAULTGROUP               0      Y\n",
       "2  IBMDEFAULTGROUP               1      Y\n",
       "3  IBMDEFAULTGROUP               2      Y\n",
       "4  IBMDEFAULTGROUP               3      Y"
      ]
     },
     "execution_count": 33,
     "metadata": {},
     "output_type": "execute_result"
    }
   ],
   "source": [
    "%sql select * from syscat.DBPARTITIONGROUPDEF"
   ]
  },
  {
   "cell_type": "markdown",
   "metadata": {},
   "source": [
    "As you can see we have 4 data partitions, and only one partition group defined. these all ruin on the single node we are deployed on. In a larger cluster they can be spread out across multiple nodes."
   ]
  },
  {
   "cell_type": "markdown",
   "metadata": {},
   "source": [
    "### Lets Load some Data in to Test our Database"
   ]
  },
  {
   "cell_type": "markdown",
   "metadata": {},
   "source": [
    "we are going to create a market basket data and insert some data in via python data generator running on the notebook."
   ]
  },
  {
   "cell_type": "code",
   "execution_count": 47,
   "metadata": {},
   "outputs": [
    {
     "name": "stdout",
     "output_type": "stream",
     "text": [
      "Command completed.\n"
     ]
    }
   ],
   "source": [
    "%sql drop table market_basket if Exists"
   ]
  },
  {
   "cell_type": "code",
   "execution_count": 34,
   "metadata": {},
   "outputs": [
    {
     "name": "stdout",
     "output_type": "stream",
     "text": [
      "Command completed.\n"
     ]
    }
   ],
   "source": [
    "%%sql \n",
    "create table market_basket (    \n",
    "    Receipt_id INTEGER Not Null,\n",
    "    TX_Date    DATE Not Null,\n",
    "    TX_NO      INTEGER not Null,\n",
    "    p_no        integer not null,\n",
    "    PRODUCT    VARCHAR(60) not Null,\n",
    "    QTY        Integer Not Null, \n",
    "  iTEM_COST    DECIMAL(15,2), primary key(receipt_id,tx_no,product)) organize by row"
   ]
  },
  {
   "cell_type": "markdown",
   "metadata": {},
   "source": [
    "### Generate Our Data"
   ]
  },
  {
   "cell_type": "code",
   "execution_count": 21,
   "metadata": {
    "hide_input": true,
    "scrolled": false,
    "tags": [
     "refresh"
    ]
   },
   "outputs": [
    {
     "data": {
      "application/vnd.jupyter.widget-view+json": {
       "model_id": "c2f738a7b0cd44ebb346677d39f8e718",
       "version_major": 2,
       "version_minor": 0
      },
      "text/plain": [
       "Button(button_style='primary', description='Generate Data', style=ButtonStyle())"
      ]
     },
     "metadata": {},
     "output_type": "display_data"
    },
    {
     "data": {
      "application/vnd.jupyter.widget-view+json": {
       "model_id": "f2b9228007184897bf1d88c3a89c2844",
       "version_major": 2,
       "version_minor": 0
      },
      "text/plain": [
       "Output()"
      ]
     },
     "metadata": {},
     "output_type": "display_data"
    }
   ],
   "source": [
    "import csv\n",
    "import ipywidgets as widgets\n",
    "from IPython.display import display\n",
    "button = widgets.Button(description=\"Generate Data\",button_style='primary')\n",
    "output = widgets.Output()\n",
    "display(button, output)\n",
    "def on_button_clicked(b):\n",
    " print('Data load starting')\n",
    " i=1\n",
    " e=0\n",
    " with open('basket_data.csv', newline='\\n') as csvfile:\n",
    "  reader = csv.DictReader(csvfile)\n",
    "  for row in reader:\n",
    "    if i == 1:\n",
    "        insert_st = \"insert into market_basket values( \"+row['RECEIPT_ID']+\",'\"+row['TX_DATE']+\"',\"+row['TX_NO']+\",\"+row['PRODUCT_ID']+\",'\"+row['PRODUCT']+\"',\"+row['QUANTITY']+\",\"+row['ITEM_COST']+\")\"\n",
    "    if i > 1:\n",
    "        insert_st = insert_st = insert_st + \",( \"+row['RECEIPT_ID']+\",'\"+row['TX_DATE']+\"',\"+row['TX_NO']+\",\"+row['PRODUCT_ID']+\",'\"+row['PRODUCT']+\"',\"+row['QUANTITY']+\",\"+row['ITEM_COST']+\")\"\n",
    "    if i >=10 :\n",
    "        %sql  -q {insert_st}\n",
    "        insert_st=''\n",
    "        i=0\n",
    "    e= e+1\n",
    "    i=i+1\n",
    "    if e>=18000:\n",
    "      break\n",
    " print('Data load finished')\n",
    " print ('Rows Inserted:')\n",
    " print(e)\n",
    "button.on_click(on_button_clicked)"
   ]
  },
  {
   "cell_type": "markdown",
   "metadata": {},
   "source": [
    "At this point you can try various SQL commands since we have established a connection to Db2."
   ]
  },
  {
   "cell_type": "code",
   "execution_count": 35,
   "metadata": {},
   "outputs": [
    {
     "data": {
      "text/html": [
       "<div>\n",
       "<style scoped>\n",
       "    .dataframe tbody tr th:only-of-type {\n",
       "        vertical-align: middle;\n",
       "    }\n",
       "\n",
       "    .dataframe tbody tr th {\n",
       "        vertical-align: top;\n",
       "    }\n",
       "\n",
       "    .dataframe thead th {\n",
       "        text-align: right;\n",
       "    }\n",
       "</style>\n",
       "<table border=\"1\" class=\"dataframe\">\n",
       "  <thead>\n",
       "    <tr style=\"text-align: right;\">\n",
       "      <th></th>\n",
       "      <th>1</th>\n",
       "    </tr>\n",
       "  </thead>\n",
       "  <tbody>\n",
       "    <tr>\n",
       "      <th>0</th>\n",
       "      <td>18000.0</td>\n",
       "    </tr>\n",
       "  </tbody>\n",
       "</table>\n",
       "</div>"
      ],
      "text/plain": [
       "         1\n",
       "0  18000.0"
      ]
     },
     "execution_count": 35,
     "metadata": {},
     "output_type": "execute_result"
    }
   ],
   "source": [
    "%sql select count(*) from market_basket"
   ]
  },
  {
   "cell_type": "code",
   "execution_count": 44,
   "metadata": {
    "scrolled": true
   },
   "outputs": [
    {
     "data": {
      "image/png": "[encoded data removed]",
      "text/plain": [
       "<Figure size 432x288 with 1 Axes>"
      ]
     },
     "metadata": {},
     "output_type": "display_data"
    }
   ],
   "source": [
    "%sql -pie SELECT product,sum(qty*item_cost) Revenue FROM market_basket group by product order by revenue desc fetch first 10 rows only "
   ]
  },
  {
   "cell_type": "code",
   "execution_count": 46,
   "metadata": {},
   "outputs": [
    {
     "data": {
      "text/html": [
       "<p><p style=\"border:2px; border-style:solid; border-color:#FF0000; background-color:#ffe6e6; padding: 1em;\">SQL20569N  The external table operation failed due to a problem with the corresponding data file or diagnostic files. File name: \"/mnt/bludata0/scratch/test.tbl\". Reason code: \"1\".  SQLSTATE=428IB SQLCODE=-20569</p>"
      ],
      "text/plain": [
       "<IPython.core.display.HTML object>"
      ]
     },
     "metadata": {},
     "output_type": "display_data"
    },
    {
     "name": "stdout",
     "output_type": "stream",
     "text": [
      "Command completed.\n"
     ]
    }
   ],
   "source": [
    "%sql create external table '/mnt/bludata0/scratch/test.tbl' as select * from market_basket"
   ]
  },
  {
   "cell_type": "markdown",
   "metadata": {},
   "source": [
    "## Monitoring Activities\n",
    "You can get an overview of the activities within the cluster by using the Openshift Dashboard"
   ]
  },
  {
   "cell_type": "markdown",
   "metadata": {},
   "source": [
    "Click on here and login as **user:admin / pwd:redhat** https://localhost:8443/login"
   ]
  },
  {
   "cell_type": "markdown",
   "metadata": {},
   "source": [
    "## Simulating a Db2 Crash\n",
    "You can simulate a crash in Kubernetes by deleting the Db2 pod. When you kill the pod, Kubernetes will restart the pod automatically for you. The first command will delete the Db2 pod, while the next command will watch the systems as the pod is dropped and recreated. To watch this process work, issue the first command in one command window and the second in another. "
   ]
  },
  {
   "cell_type": "code",
   "execution_count": 22,
   "metadata": {
    "hide_input": true,
    "scrolled": false,
    "tags": [
     "refresh"
    ]
   },
   "outputs": [
    {
     "data": {
      "text/html": [
       "<div style=\"margin-left: 35px; border-style: solid; border-width: 1px; padding: 10px;background-Color:black\" >\n",
       "<p style=\" color:white ;font-family:courier;background-Color:black\"\n",
       "<pre id=23 onmousedown=\"window.clipline(23)\" onmouseup=\"window.reset(23)\">\n",
       "oc delete pod db2u-db2u-0\n"
      ],
      "text/plain": [
       "<IPython.core.display.HTML object>"
      ]
     },
     "metadata": {},
     "output_type": "display_data"
    }
   ],
   "source": [
    "%%html\n",
    "<div style=\"margin-left: 35px; border-style: solid; border-width: 1px; padding: 10px;background-Color:black\" >\n",
    "<p style=\" color:white ;font-family:courier;background-Color:black\"\n",
    "<pre id=23 onmousedown=\"window.clipline(23)\" onmouseup=\"window.reset(23)\">\n",
    "oc delete pod db2u-db2u-0"
   ]
  },
  {
   "cell_type": "markdown",
   "metadata": {},
   "source": [
    "Run the following command in the second window to watch the recovery occur."
   ]
  },
  {
   "cell_type": "code",
   "execution_count": 23,
   "metadata": {
    "hide_input": true,
    "scrolled": true,
    "tags": [
     "refresh"
    ]
   },
   "outputs": [
    {
     "data": {
      "text/html": [
       "<div style=\"margin-left: 35px; border-style: solid; border-width: 1px; padding: 10px;background-Color:black\" >\n",
       "<p style=\" color:white ;font-family:courier;background-Color:black\"\n",
       "<pre id=23.1 onmousedown=\"window.clipline(23.1)\" onmouseup=\"window.reset(23.1)\">\n",
       "oc get pods -w\n"
      ],
      "text/plain": [
       "<IPython.core.display.HTML object>"
      ]
     },
     "metadata": {},
     "output_type": "display_data"
    }
   ],
   "source": [
    "%%html\n",
    "<div style=\"margin-left: 35px; border-style: solid; border-width: 1px; padding: 10px;background-Color:black\" >\n",
    "<p style=\" color:white ;font-family:courier;background-Color:black\"\n",
    "<pre id=23.1 onmousedown=\"window.clipline(23.1)\" onmouseup=\"window.reset(23.1)\">\n",
    "oc get pods -w"
   ]
  },
  {
   "cell_type": "markdown",
   "metadata": {},
   "source": [
    "Keep this status window so you can watch the delete step in the next section."
   ]
  },
  {
   "cell_type": "markdown",
   "metadata": {},
   "source": [
    "## Delete Db2 Pods\n",
    "We can delete the Db2 pods by using Helm. This will properly remove Db2 since you can see that just deleting the pod will not work!"
   ]
  },
  {
   "cell_type": "code",
   "execution_count": 24,
   "metadata": {
    "hide_input": true,
    "scrolled": true,
    "tags": [
     "refresh"
    ]
   },
   "outputs": [
    {
     "data": {
      "text/html": [
       "<div style=\"margin-left: 35px; border-style: solid; border-width: 1px; padding: 10px;background-Color:black\" >\n",
       "<p style=\" color:white ;font-family:courier;background-Color:black\"\n",
       "<pre id=24 onmousedown=\"window.clipline(24)\" onmouseup=\"window.reset(24)\">\n",
       "helm delete db2u --purge\n"
      ],
      "text/plain": [
       "<IPython.core.display.HTML object>"
      ]
     },
     "metadata": {},
     "output_type": "display_data"
    }
   ],
   "source": [
    "%%html\n",
    "<div style=\"margin-left: 35px; border-style: solid; border-width: 1px; padding: 10px;background-Color:black\" >\n",
    "<p style=\" color:white ;font-family:courier;background-Color:black\"\n",
    "<pre id=24 onmousedown=\"window.clipline(24)\" onmouseup=\"window.reset(24)\">\n",
    "helm delete db2u --purge"
   ]
  },
  {
   "cell_type": "markdown",
   "metadata": {},
   "source": [
    "Check on the status of the purge."
   ]
  },
  {
   "cell_type": "code",
   "execution_count": 25,
   "metadata": {
    "hide_input": true,
    "scrolled": true,
    "tags": [
     "refresh"
    ]
   },
   "outputs": [
    {
     "data": {
      "text/html": [
       "<div style=\"margin-left: 35px; border-style: solid; border-width: 1px; padding: 10px;background-Color:black\" >\n",
       "<p style=\" color:white ;font-family:courier;background-Color:black\"\n",
       "<pre id=24.1 onmousedown=\"window.clipline(24.1)\" onmouseup=\"window.reset(24.1)\">\n",
       "oc get pods\n"
      ],
      "text/plain": [
       "<IPython.core.display.HTML object>"
      ]
     },
     "metadata": {},
     "output_type": "display_data"
    }
   ],
   "source": [
    "%%html\n",
    "<div style=\"margin-left: 35px; border-style: solid; border-width: 1px; padding: 10px;background-Color:black\" >\n",
    "<p style=\" color:white ;font-family:courier;background-Color:black\"\n",
    "<pre id=24.1 onmousedown=\"window.clipline(24.1)\" onmouseup=\"window.reset(24.1)\">\n",
    "oc get pods"
   ]
  },
  {
   "cell_type": "markdown",
   "metadata": {},
   "source": [
    "## Restart Db2 Install (It's much faster!)\n",
    "Since we still have the Db2 images in the local Docker repository, and the persistent volume is still available, the recreation of Db2 pods is extremely quick."
   ]
  },
  {
   "cell_type": "code",
   "execution_count": 26,
   "metadata": {
    "hide_input": true,
    "scrolled": true,
    "tags": [
     "refresh"
    ]
   },
   "outputs": [
    {
     "data": {
      "text/html": [
       "<div style=\"margin-left: 35px; border-style: solid; border-width: 1px; padding: 10px;background-Color:black\" >\n",
       "<p style=\" color:white ;font-family:courier;background-Color:black\"\n",
       "<pre id=25 onmousedown=\"window.clipline(25)\" onmouseup=\" window.reset(25)\">\n",
       "cd home/db2pot/Db2/deployment\n"
      ],
      "text/plain": [
       "<IPython.core.display.HTML object>"
      ]
     },
     "metadata": {},
     "output_type": "display_data"
    }
   ],
   "source": [
    "%%html\n",
    "<div style=\"margin-left: 35px; border-style: solid; border-width: 1px; padding: 10px;background-Color:black\" >\n",
    "<p style=\" color:white ;font-family:courier;background-Color:black\"\n",
    "<pre id=25 onmousedown=\"window.clipline(25)\" onmouseup=\" window.reset(25)\">\n",
    "cd home/db2pot/Db2/deployment"
   ]
  },
  {
   "cell_type": "code",
   "execution_count": 27,
   "metadata": {
    "hide_input": true,
    "scrolled": true,
    "tags": [
     "refresh"
    ]
   },
   "outputs": [
    {
     "data": {
      "text/html": [
       "<div style=\"margin-left: 35px; border-style: solid; border-width: 1px; padding: 10px;background-Color:black\" >\n",
       "<p style=\" color:white ;font-family:courier;background-Color:black\"\n",
       "\"\"<pre id=26 onmousedown=\"window.clipline(26)\" onmouseup=\"  window.reset(26)\">\n",
       "./db2wh_install --db-type db2wh --namespace db2 --release-name db2u --existing-pvc db2pvc --tiller-namespace tiller --db-partitions 4 --db-nodes 1\n"
      ],
      "text/plain": [
       "<IPython.core.display.HTML object>"
      ]
     },
     "metadata": {},
     "output_type": "display_data"
    }
   ],
   "source": [
    "%%html\n",
    "<div style=\"margin-left: 35px; border-style: solid; border-width: 1px; padding: 10px;background-Color:black\" >\n",
    "<p style=\" color:white ;font-family:courier;background-Color:black\"\n",
    "\"\"<pre id=26 onmousedown=\"window.clipline(26)\" onmouseup=\"  window.reset(26)\">\n",
    "./db2wh_install --db-type db2wh --namespace db2 --release-name db2u --existing-pvc db2pvc --tiller-namespace tiller --db-partitions 4 --db-nodes 1"
   ]
  },
  {
   "cell_type": "markdown",
   "metadata": {},
   "source": [
    "Check its progress to see how long this deployment takes."
   ]
  },
  {
   "cell_type": "code",
   "execution_count": 28,
   "metadata": {
    "hide_input": true,
    "tags": [
     "refresh"
    ]
   },
   "outputs": [
    {
     "data": {
      "text/html": [
       "<div style=\"margin-left: 35px; border-style: solid; border-width: 1px; padding: 10px;background-Color:black\" >\n",
       "<p style=\" color:white ;font-family:courier;background-Color:black\"\n",
       "<pre id=27 onmousedown=\"window.clipline(27)\" onmouseup=\" window.reset(27)\">\n",
       "oc get pods\n"
      ],
      "text/plain": [
       "<IPython.core.display.HTML object>"
      ]
     },
     "metadata": {},
     "output_type": "display_data"
    }
   ],
   "source": [
    "%%html\n",
    "<div style=\"margin-left: 35px; border-style: solid; border-width: 1px; padding: 10px;background-Color:black\" >\n",
    "<p style=\" color:white ;font-family:courier;background-Color:black\"\n",
    "<pre id=27 onmousedown=\"window.clipline(27)\" onmouseup=\" window.reset(27)\">\n",
    "oc get pods"
   ]
  },
  {
   "cell_type": "markdown",
   "metadata": {},
   "source": [
    "## Other Interesting Stuff !"
   ]
  },
  {
   "cell_type": "markdown",
   "metadata": {},
   "source": [
    "There are a range of different commands you can explore to learn about your Db2 Environment."
   ]
  },
  {
   "cell_type": "markdown",
   "metadata": {},
   "source": [
    "View the logs of the Db2 pod (or exchange Db2 pod name for any other)."
   ]
  },
  {
   "cell_type": "code",
   "execution_count": 29,
   "metadata": {
    "hide_input": true,
    "scrolled": true,
    "tags": [
     "refresh"
    ]
   },
   "outputs": [
    {
     "data": {
      "text/html": [
       "<div style=\"margin-left: 35px; border-style: solid; border-width: 1px; padding: 10px;background-Color:black\" >\n",
       "<p style=\" color:white ;font-family:courier;background-Color:black\"\n",
       "<pre id=30 onmousedown=\"window.clipline(30)\" onmouseup=\" window.reset(30)\">\n",
       "oc logs db2u-db2u-0\n"
      ],
      "text/plain": [
       "<IPython.core.display.HTML object>"
      ]
     },
     "metadata": {},
     "output_type": "display_data"
    }
   ],
   "source": [
    "%%html\n",
    "<div style=\"margin-left: 35px; border-style: solid; border-width: 1px; padding: 10px;background-Color:black\" >\n",
    "<p style=\" color:white ;font-family:courier;background-Color:black\"\n",
    "<pre id=30 onmousedown=\"window.clipline(30)\" onmouseup=\" window.reset(30)\">\n",
    "oc logs db2u-db2u-0"
   ]
  },
  {
   "cell_type": "markdown",
   "metadata": {},
   "source": [
    "Describe the current Db2 pod status."
   ]
  },
  {
   "cell_type": "code",
   "execution_count": 30,
   "metadata": {
    "hide_input": true,
    "tags": [
     "refresh"
    ]
   },
   "outputs": [
    {
     "data": {
      "text/html": [
       "<div style=\"margin-left: 35px; border-style: solid; border-width: 1px; padding: 10px;background-Color:black\" >\n",
       "<p style=\" color:white ;font-family:courier;background-Color:black\"\n",
       "<pre id=31 onmousedown=\"window.clipline(31)\" onmouseup=\" window.reset(31)\">\n",
       "oc describe pod db2u-db2u-0\n"
      ],
      "text/plain": [
       "<IPython.core.display.HTML object>"
      ]
     },
     "metadata": {},
     "output_type": "display_data"
    }
   ],
   "source": [
    "%%html\n",
    "<div style=\"margin-left: 35px; border-style: solid; border-width: 1px; padding: 10px;background-Color:black\" >\n",
    "<p style=\" color:white ;font-family:courier;background-Color:black\"\n",
    "<pre id=31 onmousedown=\"window.clipline(31)\" onmouseup=\" window.reset(31)\">\n",
    "oc describe pod db2u-db2u-0"
   ]
  },
  {
   "cell_type": "markdown",
   "metadata": {},
   "source": [
    "[![](./media/db2_dte_footer.png)](https://www.ibm.com/demos/collection/db2-database/)\n",
    "<a id=\"top\">"
   ]
  },
  {
   "cell_type": "markdown",
   "metadata": {},
   "source": [
    "#### Credits: IBM 2020, Phil Downey [phil.downey1@ibm.com], George Baklarz [baklarz@ca.ibm.com]"
   ]
  }
 ],
 "metadata": {
  "kernelspec": {
   "display_name": "Python 3",
   "language": "python",
   "name": "python3"
  },
  "language_info": {
   "codemirror_mode": {
    "name": "ipython",
    "version": 3
   },
   "file_extension": ".py",
   "mimetype": "text/x-python",
   "name": "python",
   "nbconvert_exporter": "python",
   "pygments_lexer": "ipython3",
   "version": "3.7.1"
  }
 },
 "nbformat": 4,
 "nbformat_minor": 2
}
