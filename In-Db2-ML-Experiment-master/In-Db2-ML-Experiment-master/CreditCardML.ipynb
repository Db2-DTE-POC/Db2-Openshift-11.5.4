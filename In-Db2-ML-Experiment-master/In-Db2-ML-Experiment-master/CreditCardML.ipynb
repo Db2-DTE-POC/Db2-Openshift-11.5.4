{
 "cells": [
  {
   "cell_type": "markdown",
   "metadata": {},
   "source": [
    "# Credit Card Fraud Detection\n",
    "The datasets contains transactions made by credit cards in September 2013 by european cardholders. \n",
    "This dataset presents transactions that occurred in two days, where we have 492 frauds out of 284,807 transactions. \n",
    "The dataset is highly unbalanced, the positive class (frauds) account for 0.172% of all transactions.\n",
    "\n",
    "It contains only numerical input variables which are the result of a PCA transformation. \n",
    "Due to data confidentiality, original features are unknown. \n",
    "Features V1, V2, ... V28 are the principal components obtained with PCA, the only features which have not been transformed with PCA are 'Time' and 'Amount'. \n",
    "Feature 'Time' contains the seconds elapsed between each transaction and the first transaction in the dataset. \n",
    "The feature 'Amount' is the transaction Amount, this feature can be used for example-dependant cost-senstive learning. \n",
    "Feature 'Class' is the target variable and it takes value 1 in case of fraud and 0 otherwise.\n"
   ]
  },
  {
   "cell_type": "markdown",
   "metadata": {},
   "source": [
    "## Imports"
   ]
  },
  {
   "cell_type": "code",
   "execution_count": 1,
   "metadata": {},
   "outputs": [],
   "source": [
    "import ibm_db\n",
    "import ibm_db_dbi\n",
    "\n",
    "import pandas as pd\n",
    "import numpy as np\n",
    "import seaborn as sns \n",
    "import matplotlib.pyplot as plt\n",
    "%matplotlib inline\n",
    "\n",
    "from time import time\n",
    "from sklearn.model_selection import train_test_split, GridSearchCV\n",
    "from sklearn.preprocessing import StandardScaler\n",
    "from imblearn.over_sampling import SMOTE\n",
    "from sklearn.model_selection import ShuffleSplit\n",
    "from sklearn.model_selection import learning_curve\n",
    "\n",
    "from sklearn.linear_model import LogisticRegression\n",
    "from sklearn.tree import DecisionTreeClassifier\n",
    "from sklearn.linear_model import LogisticRegression\n",
    "from sklearn.svm import SVC\n",
    "from sklearn.linear_model import SGDClassifier\n",
    "from sklearn.metrics import confusion_matrix, precision_recall_curve, roc_auc_score, auc, roc_curve, recall_score, classification_report\n",
    "\n",
    "\n",
    "import pickle\n",
    "from joblib import dump, load"
   ]
  },
  {
   "cell_type": "code",
   "execution_count": 2,
   "metadata": {},
   "outputs": [
    {
     "name": "stdout",
     "output_type": "stream",
     "text": [
      "Db2 Extensions Loaded.\n"
     ]
    }
   ],
   "source": [
    "run db2.ipynb"
   ]
  },
  {
   "cell_type": "code",
   "execution_count": 3,
   "metadata": {},
   "outputs": [
    {
     "name": "stdout",
     "output_type": "stream",
     "text": [
      "Connection successful.\n"
     ]
    }
   ],
   "source": [
    "%sql connect to bludb user db2inst1 using redhat host 192.168.154.129 port 31382"
   ]
  },
  {
   "cell_type": "code",
   "execution_count": 41,
   "metadata": {},
   "outputs": [
    {
     "name": "stdout",
     "output_type": "stream",
     "text": [
      "Command completed.\n"
     ]
    }
   ],
   "source": [
    "%sql drop table credit_card"
   ]
  },
  {
   "cell_type": "code",
   "execution_count": 42,
   "metadata": {},
   "outputs": [
    {
     "name": "stdout",
     "output_type": "stream",
     "text": [
      "Command completed.\n"
     ]
    }
   ],
   "source": [
    "%%sql\n",
    " create table CREDIT_CARD ( \n",
    "    \"Time\" Decfloat, \n",
    "     \"V1\"  Decfloat,\n",
    "     \"V2\"  Decfloat,\n",
    "     \"V3\" Decfloat,\n",
    "     \"V4\" Decfloat,\n",
    "     \"V5\" Decfloat,\n",
    "     \"V6\" Decfloat,\n",
    "     \"V7\" Decfloat,\n",
    "     \"V8\" Decfloat,\n",
    "     \"V9\" Decfloat,\n",
    "     \"V10\" Decfloat,\n",
    "     \"V11\" Decfloat,\n",
    "     \"V12\" Decfloat,\n",
    "     \"V13\" Decfloat,\n",
    "     \"V14\" Decfloat,\n",
    "     \"V15\" Decfloat,\n",
    "     \"V16\" Decfloat,\n",
    "     \"V17\" Decfloat,\n",
    "     \"V18\" Decfloat,\n",
    "     \"V19\" Decfloat,\n",
    "     \"V20\" Decfloat,\n",
    "     \"V21\" Decfloat,\n",
    "     \"V22\" Decfloat,\n",
    "     \"V23\" Decfloat,\n",
    "     \"V24\" Decfloat,\n",
    "     \"V25\" Decfloat,\n",
    "     \"V26\" Decfloat,\n",
    "     \"V27\" Decfloat,\n",
    "     \"V28\" Decfloat,\n",
    "     \"Amount\" Decimal(20),\n",
    "     \"Class\" Varchar(16))"
   ]
  },
  {
   "cell_type": "code",
   "execution_count": 33,
   "metadata": {},
   "outputs": [],
   "source": [
    "db2inst1_directory = '/mnt/blumeta0/scratch'\n",
    "admin_cmd = 'UPDATE DB CONFIG FOR BLUDB USING EXTBL_LOCATION \"' + db2inst1_directory + '\" IMMEDIATE'"
   ]
  },
  {
   "cell_type": "code",
   "execution_count": 34,
   "metadata": {},
   "outputs": [],
   "source": [
    "%sql CALL ADMIN_CMD({admin_cmd})"
   ]
  },
  {
   "cell_type": "code",
   "execution_count": 43,
   "metadata": {},
   "outputs": [
    {
     "name": "stdout",
     "output_type": "stream",
     "text": [
      "Command completed.\n"
     ]
    }
   ],
   "source": [
    "%sql insert into credit_card SELECT * FROM EXTERNAL '/mnt/blumeta0/scratch/creditcard.csv' like CREDIT_CARD USING(DELIMITER ',' SKIPROWS 1 ) "
   ]
  },
  {
   "cell_type": "code",
   "execution_count": 44,
   "metadata": {},
   "outputs": [
    {
     "data": {
      "text/html": [
       "<div>\n",
       "<style scoped>\n",
       "    .dataframe tbody tr th:only-of-type {\n",
       "        vertical-align: middle;\n",
       "    }\n",
       "\n",
       "    .dataframe tbody tr th {\n",
       "        vertical-align: top;\n",
       "    }\n",
       "\n",
       "    .dataframe thead th {\n",
       "        text-align: right;\n",
       "    }\n",
       "</style>\n",
       "<table border=\"1\" class=\"dataframe\">\n",
       "  <thead>\n",
       "    <tr style=\"text-align: right;\">\n",
       "      <th></th>\n",
       "      <th>1</th>\n",
       "    </tr>\n",
       "  </thead>\n",
       "  <tbody>\n",
       "    <tr>\n",
       "      <th>0</th>\n",
       "      <td>284807.0</td>\n",
       "    </tr>\n",
       "  </tbody>\n",
       "</table>\n",
       "</div>"
      ],
      "text/plain": [
       "          1\n",
       "0  284807.0"
      ]
     },
     "execution_count": 44,
     "metadata": {},
     "output_type": "execute_result"
    }
   ],
   "source": [
    "%sql select count(*) from credit_card"
   ]
  },
  {
   "cell_type": "markdown",
   "metadata": {},
   "source": [
    "## Connect to Db2 Instance"
   ]
  },
  {
   "cell_type": "code",
   "execution_count": 4,
   "metadata": {},
   "outputs": [
    {
     "name": "stdout",
     "output_type": "stream",
     "text": [
      "Connection to Db2 Instance Created!\n"
     ]
    }
   ],
   "source": [
    "conn_str = \"DATABASE=CRCARD;\" + \\\n",
    "           \"HOSTNAME=entb06.canlab.ibm.com;\"+ \\\n",
    "           \"PROTOCOL=TCPIP;\"  + \\\n",
    "           \"PORT=50000;\" + \\\n",
    "           \"UID=PERFPOL2;\" + \\\n",
    "           \"PWD=blu4speed;\" \n",
    "\n",
    "\n",
    "ibm_db_conn = ibm_db.connect(conn_str,\"\",\"\")\n",
    "conn = ibm_db_dbi.Connection(ibm_db_conn)\n",
    "print('Connection to Db2 Instance Created!')"
   ]
  },
  {
   "cell_type": "markdown",
   "metadata": {},
   "source": [
    "## Pull data from Db2"
   ]
  },
  {
   "cell_type": "code",
   "execution_count": 4,
   "metadata": {},
   "outputs": [],
   "source": [
    "\n",
    "df = %sql select * from credit_card"
   ]
  },
  {
   "cell_type": "code",
   "execution_count": 7,
   "metadata": {},
   "outputs": [
    {
     "name": "stdout",
     "output_type": "stream",
     "text": [
      "     Time                 V1                  V2                  V3  \\\n",
      "0  166198  -35.5485392112513   -31.8504841430453   -48.3255893623954   \n",
      "1  166209   1.91383255057816   -1.85383655093476   -2.58959721102643   \n",
      "2  166213   2.26848214210092   -1.40445396569177  -0.182097641756727   \n",
      "3  166216   2.01055983289163   0.080389943350253   -1.61392048903693   \n",
      "4  166219   1.81139876779266  -0.216305351890302   -1.83964430925716   \n",
      "\n",
      "                  V4                  V5                  V6  \\\n",
      "0   15.3041839851875   -113.743306711146    73.3016255459646   \n",
      "1  -1.62113572438793  -0.289451333068947  -0.620987697616247   \n",
      "2   -1.4859860000569   -1.71796541134622  -0.613119031573485   \n",
      "3  0.351637530758496   0.354545281147957  -0.668284415220535   \n",
      "4  0.338289635979055   0.309310405370954  -0.488561472685394   \n",
      "\n",
      "                   V7                   V8                  V9  \\\n",
      "0    120.589493945238    -27.3473599337598   -3.87242453038611   \n",
      "1  0.0558874868475418   -0.507179751382387   -2.15175881706861   \n",
      "2   -1.47327582814001   -0.118505975099587  -0.944370449371565   \n",
      "3  0.0744924477814165  -0.0877252627792693   0.260527969108514   \n",
      "4  0.0922721814721613  -0.0617904911766978   0.694441438306862   \n",
      "\n",
      "                  V10                  V11                 V12  \\\n",
      "0   -12.0054867807373     6.85389670664344   -9.18941787565569   \n",
      "1    1.70280052572007  -0.0740900468750406  -0.057284942912645   \n",
      "2    1.49107135310271   -0.892212007006916  -0.382846206891068   \n",
      "3   -0.20388149535441     1.25391804103099   0.758349416793267   \n",
      "4  -0.789462091264079     1.36012692553786    1.10770916330481   \n",
      "\n",
      "                  V13                 V14                 V15  \\\n",
      "0    7.12688295859376   -6.79594155719079    8.87774159774277   \n",
      "1    1.17599358775632  0.0757787874688049   -1.46079490134941   \n",
      "2    1.12525083000213  -0.797676403452066    0.10238901382817   \n",
      "3  -0.313633635880192  -0.583635837111022  -0.479747093681851   \n",
      "4  0.0612322374076749   -1.43681083968125  -0.747268798010968   \n",
      "\n",
      "                  V16                V17                 V18  \\\n",
      "0    17.3151115176278  -7.17380530169518   -1.96804418826701   \n",
      "1  -0.813623942806294  0.146851503812521   0.309402885484353   \n",
      "2  -0.252936109449996  0.345647722319223  -0.169429241636547   \n",
      "3   0.471012789553327   0.30589086859854    0.15948015812753   \n",
      "4   0.179526167281768  0.971513099949295     0.4919367608339   \n",
      "\n",
      "                 V19                 V20                 V21  \\\n",
      "0    5.5017472139665    -54.497720494566   -21.6201196505274   \n",
      "1  0.641860647042555   0.135034056902654    0.10282172617102   \n",
      "2  -0.26045973024241  -0.417510470122266  -0.320066304863987   \n",
      "3  0.272210215583231  -0.159074567500371  -0.301047493864603   \n",
      "4  0.292622964306352  0.0437624288501111  -0.145854280066038   \n",
      "\n",
      "                  V22                 V23                 V24  \\\n",
      "0    5.71230304286357   -1.58109750786105    4.58454913689817   \n",
      "1   0.306185522434487  -0.376251620670115  -0.970435376115041   \n",
      "2  -0.365103557817312   0.431388566499941  -0.127729420188072   \n",
      "3  -0.821314423975757   0.349930414936791   0.662862856160089   \n",
      "4  -0.401388527081193   0.139038758790005   0.587365203049754   \n",
      "\n",
      "                  V25                 V26                  V27  \\\n",
      "0    4.55468275626127    3.41563624349633     31.6121981061363   \n",
      "1   0.427644918933294   0.124876800095952  -0.0930356856209792   \n",
      "2  -0.577767295332571  -0.406838234962831   0.0547335353087098   \n",
      "3  -0.323611160166936   0.143000511012741  -0.0687761295818625   \n",
      "4  -0.116206770629672  -0.148791208450949  -0.0248457958221655   \n",
      "\n",
      "                    V28   Amount Class  \n",
      "0     -15.4300839055349  25691.0   \"0\"  \n",
      "1   -0.0519063396357996    265.0   \"0\"  \n",
      "2   -0.0347295130446132      5.0   \"0\"  \n",
      "3   -0.0385547169384801      5.0   \"0\"  \n",
      "4  -0.00596862503309684     95.0   \"0\"  \n"
     ]
    }
   ],
   "source": [
    "print(df.head())"
   ]
  },
  {
   "cell_type": "markdown",
   "metadata": {},
   "source": [
    "## Data Exploration"
   ]
  },
  {
   "cell_type": "code",
   "execution_count": 5,
   "metadata": {},
   "outputs": [
    {
     "name": "stdout",
     "output_type": "stream",
     "text": [
      "     Time                 V1                  V2                  V3  \\\n",
      "0  166198  -35.5485392112513   -31.8504841430453   -48.3255893623954   \n",
      "1  166209   1.91383255057816   -1.85383655093476   -2.58959721102643   \n",
      "2  166213   2.26848214210092   -1.40445396569177  -0.182097641756727   \n",
      "3  166216   2.01055983289163   0.080389943350253   -1.61392048903693   \n",
      "4  166219   1.81139876779266  -0.216305351890302   -1.83964430925716   \n",
      "\n",
      "                  V4                  V5                  V6  \\\n",
      "0   15.3041839851875   -113.743306711146    73.3016255459646   \n",
      "1  -1.62113572438793  -0.289451333068947  -0.620987697616247   \n",
      "2   -1.4859860000569   -1.71796541134622  -0.613119031573485   \n",
      "3  0.351637530758496   0.354545281147957  -0.668284415220535   \n",
      "4  0.338289635979055   0.309310405370954  -0.488561472685394   \n",
      "\n",
      "                   V7                   V8                  V9  \\\n",
      "0    120.589493945238    -27.3473599337598   -3.87242453038611   \n",
      "1  0.0558874868475418   -0.507179751382387   -2.15175881706861   \n",
      "2   -1.47327582814001   -0.118505975099587  -0.944370449371565   \n",
      "3  0.0744924477814165  -0.0877252627792693   0.260527969108514   \n",
      "4  0.0922721814721613  -0.0617904911766978   0.694441438306862   \n",
      "\n",
      "                  V10                  V11                 V12  \\\n",
      "0   -12.0054867807373     6.85389670664344   -9.18941787565569   \n",
      "1    1.70280052572007  -0.0740900468750406  -0.057284942912645   \n",
      "2    1.49107135310271   -0.892212007006916  -0.382846206891068   \n",
      "3   -0.20388149535441     1.25391804103099   0.758349416793267   \n",
      "4  -0.789462091264079     1.36012692553786    1.10770916330481   \n",
      "\n",
      "                  V13                 V14                 V15  \\\n",
      "0    7.12688295859376   -6.79594155719079    8.87774159774277   \n",
      "1    1.17599358775632  0.0757787874688049   -1.46079490134941   \n",
      "2    1.12525083000213  -0.797676403452066    0.10238901382817   \n",
      "3  -0.313633635880192  -0.583635837111022  -0.479747093681851   \n",
      "4  0.0612322374076749   -1.43681083968125  -0.747268798010968   \n",
      "\n",
      "                  V16                V17                 V18  \\\n",
      "0    17.3151115176278  -7.17380530169518   -1.96804418826701   \n",
      "1  -0.813623942806294  0.146851503812521   0.309402885484353   \n",
      "2  -0.252936109449996  0.345647722319223  -0.169429241636547   \n",
      "3   0.471012789553327   0.30589086859854    0.15948015812753   \n",
      "4   0.179526167281768  0.971513099949295     0.4919367608339   \n",
      "\n",
      "                 V19                 V20                 V21  \\\n",
      "0    5.5017472139665    -54.497720494566   -21.6201196505274   \n",
      "1  0.641860647042555   0.135034056902654    0.10282172617102   \n",
      "2  -0.26045973024241  -0.417510470122266  -0.320066304863987   \n",
      "3  0.272210215583231  -0.159074567500371  -0.301047493864603   \n",
      "4  0.292622964306352  0.0437624288501111  -0.145854280066038   \n",
      "\n",
      "                  V22                 V23                 V24  \\\n",
      "0    5.71230304286357   -1.58109750786105    4.58454913689817   \n",
      "1   0.306185522434487  -0.376251620670115  -0.970435376115041   \n",
      "2  -0.365103557817312   0.431388566499941  -0.127729420188072   \n",
      "3  -0.821314423975757   0.349930414936791   0.662862856160089   \n",
      "4  -0.401388527081193   0.139038758790005   0.587365203049754   \n",
      "\n",
      "                  V25                 V26                  V27  \\\n",
      "0    4.55468275626127    3.41563624349633     31.6121981061363   \n",
      "1   0.427644918933294   0.124876800095952  -0.0930356856209792   \n",
      "2  -0.577767295332571  -0.406838234962831   0.0547335353087098   \n",
      "3  -0.323611160166936   0.143000511012741  -0.0687761295818625   \n",
      "4  -0.116206770629672  -0.148791208450949  -0.0248457958221655   \n",
      "\n",
      "                    V28   Amount Class  \n",
      "0     -15.4300839055349  25691.0   \"0\"  \n",
      "1   -0.0519063396357996    265.0   \"0\"  \n",
      "2   -0.0347295130446132      5.0   \"0\"  \n",
      "3   -0.0385547169384801      5.0   \"0\"  \n",
      "4  -0.00596862503309684     95.0   \"0\"  \n",
      "----------------------------------------\n",
      "<class 'pandas.core.frame.DataFrame'>\n",
      "RangeIndex: 284807 entries, 0 to 284806\n",
      "Data columns (total 31 columns):\n",
      "Time      284807 non-null object\n",
      "V1        284807 non-null object\n",
      "V2        284807 non-null object\n",
      "V3        284807 non-null object\n",
      "V4        284807 non-null object\n",
      "V5        284807 non-null object\n",
      "V6        284807 non-null object\n",
      "V7        284807 non-null object\n",
      "V8        284807 non-null object\n",
      "V9        284807 non-null object\n",
      "V10       284807 non-null object\n",
      "V11       284807 non-null object\n",
      "V12       284807 non-null object\n",
      "V13       284807 non-null object\n",
      "V14       284807 non-null object\n",
      "V15       284807 non-null object\n",
      "V16       284807 non-null object\n",
      "V17       284807 non-null object\n",
      "V18       284807 non-null object\n",
      "V19       284807 non-null object\n",
      "V20       284807 non-null object\n",
      "V21       284807 non-null object\n",
      "V22       284807 non-null object\n",
      "V23       284807 non-null object\n",
      "V24       284807 non-null object\n",
      "V25       284807 non-null object\n",
      "V26       284807 non-null object\n",
      "V27       284807 non-null object\n",
      "V28       284807 non-null object\n",
      "Amount    284807 non-null float64\n",
      "Class     284807 non-null object\n",
      "dtypes: float64(1), object(30)\n",
      "memory usage: 67.4+ MB\n",
      "None\n",
      "----------------------------------------\n",
      "Time      0\n",
      "V1        0\n",
      "V2        0\n",
      "V3        0\n",
      "V4        0\n",
      "         ..\n",
      "V26       0\n",
      "V27       0\n",
      "V28       0\n",
      "Amount    0\n",
      "Class     0\n",
      "Length: 31, dtype: int64\n",
      "----------------------------------------\n"
     ]
    }
   ],
   "source": [
    "print(df.head())\n",
    "print('-'*40)\n",
    "print(df.info())\n",
    "print('-'*40)\n",
    "print(df.isnull().sum()) # --> no null values!\n",
    "print('-'*40)"
   ]
  },
  {
   "cell_type": "markdown",
   "metadata": {},
   "source": [
    "## Data Transformation"
   ]
  },
  {
   "cell_type": "code",
   "execution_count": 5,
   "metadata": {},
   "outputs": [
    {
     "name": "stdout",
     "output_type": "stream",
     "text": [
      "----------------------------------------------------------------------------------------------------\n",
      "Label Distributions: \n",
      " 0   1\n",
      "Training Set:  [0.99827185 0.00172815]\n",
      "Testing Set:  [0.99827369 0.00172631]\n"
     ]
    }
   ],
   "source": [
    "# remove redundant feature\n",
    "df = df.drop('Time',axis=1)\n",
    "\n",
    "# create feature and target set\n",
    "X = df.drop('Class',axis=1)\n",
    "y = df['Class']\n",
    "    \n",
    "\n",
    "# split data before applying transformations\n",
    "X_train, X_test, y_train, y_test = train_test_split(X,y,test_size=0.36,random_state=42, stratify=y)\n",
    "\n",
    "\n",
    "\n",
    "# See if both the train and test label distribution are similarly distributed\n",
    "train_unique_label, train_counts_label = np.unique(y_train, return_counts=True)\n",
    "test_unique_label, test_counts_label = np.unique(y_test, return_counts=True)\n",
    "print('-' * 100)\n",
    "\n",
    "print('Label Distributions: \\n 0   1')\n",
    "print('Training Set: ', train_counts_label/ len(y_train))\n",
    "print('Testing Set: ', test_counts_label/ len(y_test))"
   ]
  },
  {
   "cell_type": "code",
   "execution_count": 6,
   "metadata": {},
   "outputs": [
    {
     "name": "stdout",
     "output_type": "stream",
     "text": [
      "Full Dataset shape:  (284807, 30)\n",
      "Training Features shape:  (182276, 29)\n",
      "Training Labels shape:  (182276,)\n",
      "Testing Features shape:  (102531, 29)\n",
      "Testing Labels shape:  (102531,)\n"
     ]
    }
   ],
   "source": [
    "print('Full Dataset shape: ', df.shape)\n",
    "print('Training Features shape: ',X_train.shape)\n",
    "print('Training Labels shape: ',y_train.shape)\n",
    "print('Testing Features shape: ',X_test.shape)\n",
    "print('Testing Labels shape: ',y_test.shape)"
   ]
  },
  {
   "cell_type": "code",
   "execution_count": 8,
   "metadata": {},
   "outputs": [
    {
     "name": "stdout",
     "output_type": "stream",
     "text": [
      "----------------------------------------------------------------------------------------------------\n",
      "New Label Distributions: \n",
      " 0   1 \n",
      "\n",
      "Training Set (Over-Sampled):  [0.5 0.5]\n",
      "Testing Set (Not Over-Sampled):  [0.99827369 0.00172631]\n"
     ]
    }
   ],
   "source": [
    "# 'Amount' feature needs to be normalized for both training and test set\n",
    "scaler = StandardScaler()\n",
    "X_train['AMOUNT_SCALED'] = scaler.fit_transform(X_train['Amount'].values.reshape(-1,1))\n",
    "X_train = X_train.drop('Amount',axis=1)\n",
    "\n",
    "X_test['AMOUNT_SCALED'] = scaler.transform(X_test['Amount'].values.reshape(-1,1))\n",
    "X_test=X_test.drop('Amount',axis=1)\n",
    "\n",
    "# use oversampling to add more instances of 'fraud' class for training\n",
    "sm = SMOTE(random_state=42)\n",
    "\n",
    "X_train_os, y_train_os = sm.fit_sample(X_train,y_train)\n",
    "\n",
    "# See if both the train and test label distribution are similarly distributed\n",
    "train_unique_label, train_counts_label = np.unique(y_train_os, return_counts=True)\n",
    "test_unique_label, test_counts_label = np.unique(y_test, return_counts=True)\n",
    "print('-' * 100)\n",
    "\n",
    "print('New Label Distributions: \\n 0   1 \\n')\n",
    "print('Training Set (Over-Sampled): ', train_counts_label/ len(y_train_os))\n",
    "print('Testing Set (Not Over-Sampled): ', test_counts_label/ len(y_test))"
   ]
  },
  {
   "cell_type": "markdown",
   "metadata": {},
   "source": [
    "## Copy Testing Data to CREDIT_CARD_PREDICTION Table"
   ]
  },
  {
   "cell_type": "code",
   "execution_count": 10,
   "metadata": {},
   "outputs": [
    {
     "name": "stdout",
     "output_type": "stream",
     "text": [
      "Number of affected rows:  0\n"
     ]
    }
   ],
   "source": [
    "# Clear the table\n",
    "sql = \"DELETE FROM CC_PREDICT_SCALED\" #\"DELETE FROM CREDIT_CARD_PREDICTION\"\n",
    "stmt = ibm_db.exec_immediate(ibm_db_conn, sql)\n",
    "print(\"Number of affected rows: \", ibm_db.num_rows(stmt))"
   ]
  },
  {
   "cell_type": "code",
   "execution_count": 11,
   "metadata": {},
   "outputs": [
    {
     "name": "stdout",
     "output_type": "stream",
     "text": [
      "Successfully pulled test data from Db2!\n"
     ]
    },
    {
     "data": {
      "text/html": [
       "<div>\n",
       "<style scoped>\n",
       "    .dataframe tbody tr th:only-of-type {\n",
       "        vertical-align: middle;\n",
       "    }\n",
       "\n",
       "    .dataframe tbody tr th {\n",
       "        vertical-align: top;\n",
       "    }\n",
       "\n",
       "    .dataframe thead th {\n",
       "        text-align: right;\n",
       "    }\n",
       "</style>\n",
       "<table border=\"1\" class=\"dataframe\">\n",
       "  <thead>\n",
       "    <tr style=\"text-align: right;\">\n",
       "      <th></th>\n",
       "      <th>V1</th>\n",
       "      <th>V2</th>\n",
       "      <th>V3</th>\n",
       "      <th>V4</th>\n",
       "      <th>V5</th>\n",
       "      <th>V6</th>\n",
       "      <th>V7</th>\n",
       "      <th>V8</th>\n",
       "      <th>V9</th>\n",
       "      <th>V10</th>\n",
       "      <th>...</th>\n",
       "      <th>V20</th>\n",
       "      <th>V21</th>\n",
       "      <th>V22</th>\n",
       "      <th>V23</th>\n",
       "      <th>V24</th>\n",
       "      <th>V25</th>\n",
       "      <th>V26</th>\n",
       "      <th>V27</th>\n",
       "      <th>V28</th>\n",
       "      <th>AMOUNT</th>\n",
       "    </tr>\n",
       "  </thead>\n",
       "  <tbody>\n",
       "  </tbody>\n",
       "</table>\n",
       "<p>0 rows × 29 columns</p>\n",
       "</div>"
      ],
      "text/plain": [
       "Empty DataFrame\n",
       "Columns: [V1, V2, V3, V4, V5, V6, V7, V8, V9, V10, V11, V12, V13, V14, V15, V16, V17, V18, V19, V20, V21, V22, V23, V24, V25, V26, V27, V28, AMOUNT]\n",
       "Index: []\n",
       "\n",
       "[0 rows x 29 columns]"
      ]
     },
     "execution_count": 11,
     "metadata": {},
     "output_type": "execute_result"
    }
   ],
   "source": [
    "# Confirm table is empty\n",
    "sql = 'SELECT * FROM CC_PREDICT_SCALED'\n",
    "df_test = pd.read_sql(sql,conn)\n",
    "print('Successfully pulled test data from Db2!')\n",
    "df_test.head()"
   ]
  },
  {
   "cell_type": "code",
   "execution_count": 12,
   "metadata": {},
   "outputs": [
    {
     "name": "stdout",
     "output_type": "stream",
     "text": [
      "inserted 102531 rows\n"
     ]
    }
   ],
   "source": [
    "# Insert X_test into CREDIT_CARD_PREDICTION table\n",
    "# put X_test data into tuples\n",
    "tuple_of_tuples = tuple([tuple(x) for x in X_test.values])\n",
    "\n",
    "sql = \"INSERT INTO CC_PREDICT_SCALED VALUES(?,?,?,?,?,?,?,?,?,?,?,?,?,?,?,?,?,?,?,?,?,?,?,?,?,?,?,?,?)\"\n",
    "\n",
    "stmt = ibm_db.prepare(ibm_db_conn, sql)\n",
    "\n",
    "ibm_db.execute_many(stmt, tuple_of_tuples)\n",
    "row_count = ibm_db.num_rows(stmt)\n",
    "print(\"inserted {} rows\".format(row_count))"
   ]
  },
  {
   "cell_type": "code",
   "execution_count": 13,
   "metadata": {},
   "outputs": [
    {
     "name": "stdout",
     "output_type": "stream",
     "text": [
      "Successfully pulled test data from Db2!\n"
     ]
    },
    {
     "data": {
      "text/html": [
       "<div>\n",
       "<style scoped>\n",
       "    .dataframe tbody tr th:only-of-type {\n",
       "        vertical-align: middle;\n",
       "    }\n",
       "\n",
       "    .dataframe tbody tr th {\n",
       "        vertical-align: top;\n",
       "    }\n",
       "\n",
       "    .dataframe thead th {\n",
       "        text-align: right;\n",
       "    }\n",
       "</style>\n",
       "<table border=\"1\" class=\"dataframe\">\n",
       "  <thead>\n",
       "    <tr style=\"text-align: right;\">\n",
       "      <th></th>\n",
       "      <th>V1</th>\n",
       "      <th>V2</th>\n",
       "      <th>V3</th>\n",
       "      <th>V4</th>\n",
       "      <th>V5</th>\n",
       "      <th>V6</th>\n",
       "      <th>V7</th>\n",
       "      <th>V8</th>\n",
       "      <th>V9</th>\n",
       "      <th>V10</th>\n",
       "      <th>...</th>\n",
       "      <th>V20</th>\n",
       "      <th>V21</th>\n",
       "      <th>V22</th>\n",
       "      <th>V23</th>\n",
       "      <th>V24</th>\n",
       "      <th>V25</th>\n",
       "      <th>V26</th>\n",
       "      <th>V27</th>\n",
       "      <th>V28</th>\n",
       "      <th>AMOUNT</th>\n",
       "    </tr>\n",
       "  </thead>\n",
       "  <tbody>\n",
       "    <tr>\n",
       "      <th>0</th>\n",
       "      <td>-0.905252</td>\n",
       "      <td>1.232731</td>\n",
       "      <td>0.683559</td>\n",
       "      <td>0.012652</td>\n",
       "      <td>1.358511</td>\n",
       "      <td>-0.254129</td>\n",
       "      <td>1.898066</td>\n",
       "      <td>-0.380180</td>\n",
       "      <td>-0.904601</td>\n",
       "      <td>-0.076524</td>\n",
       "      <td>...</td>\n",
       "      <td>0.100210</td>\n",
       "      <td>-0.002120</td>\n",
       "      <td>0.328463</td>\n",
       "      <td>-0.698855</td>\n",
       "      <td>-0.376579</td>\n",
       "      <td>1.307757</td>\n",
       "      <td>-0.374461</td>\n",
       "      <td>-0.027436</td>\n",
       "      <td>-0.135352</td>\n",
       "      <td>-0.150152</td>\n",
       "    </tr>\n",
       "    <tr>\n",
       "      <th>1</th>\n",
       "      <td>-1.847908</td>\n",
       "      <td>2.119865</td>\n",
       "      <td>-0.875599</td>\n",
       "      <td>-1.078042</td>\n",
       "      <td>-0.016920</td>\n",
       "      <td>-0.767172</td>\n",
       "      <td>0.531382</td>\n",
       "      <td>0.444832</td>\n",
       "      <td>0.845560</td>\n",
       "      <td>1.587990</td>\n",
       "      <td>...</td>\n",
       "      <td>0.657388</td>\n",
       "      <td>-0.434762</td>\n",
       "      <td>-0.635526</td>\n",
       "      <td>0.109258</td>\n",
       "      <td>-0.370988</td>\n",
       "      <td>-0.177327</td>\n",
       "      <td>0.115749</td>\n",
       "      <td>0.286479</td>\n",
       "      <td>-0.094258</td>\n",
       "      <td>-0.313372</td>\n",
       "    </tr>\n",
       "    <tr>\n",
       "      <th>2</th>\n",
       "      <td>-0.140836</td>\n",
       "      <td>-0.303637</td>\n",
       "      <td>2.294315</td>\n",
       "      <td>-1.422036</td>\n",
       "      <td>-1.387915</td>\n",
       "      <td>0.279619</td>\n",
       "      <td>-1.070834</td>\n",
       "      <td>-0.587764</td>\n",
       "      <td>-0.896455</td>\n",
       "      <td>0.144522</td>\n",
       "      <td>...</td>\n",
       "      <td>-0.468192</td>\n",
       "      <td>0.626363</td>\n",
       "      <td>-0.314809</td>\n",
       "      <td>-0.300712</td>\n",
       "      <td>0.091875</td>\n",
       "      <td>1.106761</td>\n",
       "      <td>0.812381</td>\n",
       "      <td>0.062791</td>\n",
       "      <td>0.143315</td>\n",
       "      <td>-0.175354</td>\n",
       "    </tr>\n",
       "    <tr>\n",
       "      <th>3</th>\n",
       "      <td>-4.198735</td>\n",
       "      <td>0.194121</td>\n",
       "      <td>-3.917586</td>\n",
       "      <td>3.920748</td>\n",
       "      <td>-1.875486</td>\n",
       "      <td>-2.118933</td>\n",
       "      <td>-3.614445</td>\n",
       "      <td>1.687884</td>\n",
       "      <td>-2.189871</td>\n",
       "      <td>-4.684233</td>\n",
       "      <td>...</td>\n",
       "      <td>1.003350</td>\n",
       "      <td>0.801312</td>\n",
       "      <td>-0.183001</td>\n",
       "      <td>-0.440387</td>\n",
       "      <td>0.292539</td>\n",
       "      <td>-0.144967</td>\n",
       "      <td>-0.251744</td>\n",
       "      <td>1.249414</td>\n",
       "      <td>-0.131525</td>\n",
       "      <td>0.594925</td>\n",
       "    </tr>\n",
       "    <tr>\n",
       "      <th>4</th>\n",
       "      <td>-0.934305</td>\n",
       "      <td>1.394167</td>\n",
       "      <td>1.707510</td>\n",
       "      <td>-0.182922</td>\n",
       "      <td>-0.059974</td>\n",
       "      <td>-1.081418</td>\n",
       "      <td>1.078031</td>\n",
       "      <td>-0.498115</td>\n",
       "      <td>0.440596</td>\n",
       "      <td>1.036788</td>\n",
       "      <td>...</td>\n",
       "      <td>0.609200</td>\n",
       "      <td>-0.401842</td>\n",
       "      <td>-0.543589</td>\n",
       "      <td>-0.033801</td>\n",
       "      <td>0.683571</td>\n",
       "      <td>-0.134997</td>\n",
       "      <td>0.007814</td>\n",
       "      <td>0.257391</td>\n",
       "      <td>-0.133496</td>\n",
       "      <td>-0.329054</td>\n",
       "    </tr>\n",
       "    <tr>\n",
       "      <th>5</th>\n",
       "      <td>-0.281005</td>\n",
       "      <td>1.195619</td>\n",
       "      <td>-0.106102</td>\n",
       "      <td>-0.590382</td>\n",
       "      <td>0.266178</td>\n",
       "      <td>-1.074682</td>\n",
       "      <td>0.714535</td>\n",
       "      <td>0.169922</td>\n",
       "      <td>-0.361994</td>\n",
       "      <td>-0.663133</td>\n",
       "      <td>...</td>\n",
       "      <td>-0.078900</td>\n",
       "      <td>-0.216640</td>\n",
       "      <td>-0.522549</td>\n",
       "      <td>0.090039</td>\n",
       "      <td>-0.088899</td>\n",
       "      <td>-0.410126</td>\n",
       "      <td>0.146386</td>\n",
       "      <td>0.129220</td>\n",
       "      <td>0.035133</td>\n",
       "      <td>-0.340944</td>\n",
       "    </tr>\n",
       "    <tr>\n",
       "      <th>6</th>\n",
       "      <td>-0.266383</td>\n",
       "      <td>0.394598</td>\n",
       "      <td>1.332579</td>\n",
       "      <td>-0.631239</td>\n",
       "      <td>0.299064</td>\n",
       "      <td>-0.644056</td>\n",
       "      <td>0.779659</td>\n",
       "      <td>-0.619076</td>\n",
       "      <td>0.916360</td>\n",
       "      <td>-0.052682</td>\n",
       "      <td>...</td>\n",
       "      <td>-0.178343</td>\n",
       "      <td>-0.150175</td>\n",
       "      <td>0.016261</td>\n",
       "      <td>0.195920</td>\n",
       "      <td>-0.056361</td>\n",
       "      <td>-0.704178</td>\n",
       "      <td>-0.764693</td>\n",
       "      <td>-0.552502</td>\n",
       "      <td>-0.425813</td>\n",
       "      <td>-0.323011</td>\n",
       "    </tr>\n",
       "    <tr>\n",
       "      <th>7</th>\n",
       "      <td>1.183120</td>\n",
       "      <td>0.408614</td>\n",
       "      <td>0.740999</td>\n",
       "      <td>2.580974</td>\n",
       "      <td>-0.144832</td>\n",
       "      <td>0.081847</td>\n",
       "      <td>-0.061532</td>\n",
       "      <td>0.038867</td>\n",
       "      <td>-0.214730</td>\n",
       "      <td>0.528982</td>\n",
       "      <td>...</td>\n",
       "      <td>-0.163165</td>\n",
       "      <td>-0.323377</td>\n",
       "      <td>-0.835170</td>\n",
       "      <td>0.024106</td>\n",
       "      <td>-0.152089</td>\n",
       "      <td>0.433805</td>\n",
       "      <td>-0.148282</td>\n",
       "      <td>0.006526</td>\n",
       "      <td>0.021541</td>\n",
       "      <td>-0.318784</td>\n",
       "    </tr>\n",
       "    <tr>\n",
       "      <th>8</th>\n",
       "      <td>1.245674</td>\n",
       "      <td>0.166975</td>\n",
       "      <td>0.488306</td>\n",
       "      <td>0.635322</td>\n",
       "      <td>-0.562777</td>\n",
       "      <td>-1.011073</td>\n",
       "      <td>0.014953</td>\n",
       "      <td>-0.160211</td>\n",
       "      <td>0.170362</td>\n",
       "      <td>-0.044575</td>\n",
       "      <td>...</td>\n",
       "      <td>-0.132080</td>\n",
       "      <td>-0.262581</td>\n",
       "      <td>-0.816264</td>\n",
       "      <td>0.140304</td>\n",
       "      <td>0.357827</td>\n",
       "      <td>0.186423</td>\n",
       "      <td>0.096544</td>\n",
       "      <td>-0.035866</td>\n",
       "      <td>0.018495</td>\n",
       "      <td>-0.313254</td>\n",
       "    </tr>\n",
       "    <tr>\n",
       "      <th>9</th>\n",
       "      <td>-3.005142</td>\n",
       "      <td>3.245751</td>\n",
       "      <td>-1.628285</td>\n",
       "      <td>-1.090845</td>\n",
       "      <td>-0.108972</td>\n",
       "      <td>-1.185605</td>\n",
       "      <td>0.744452</td>\n",
       "      <td>0.136761</td>\n",
       "      <td>2.379494</td>\n",
       "      <td>3.596699</td>\n",
       "      <td>...</td>\n",
       "      <td>1.508013</td>\n",
       "      <td>-0.038671</td>\n",
       "      <td>1.137997</td>\n",
       "      <td>0.058913</td>\n",
       "      <td>1.070088</td>\n",
       "      <td>-0.263812</td>\n",
       "      <td>-0.299221</td>\n",
       "      <td>1.028083</td>\n",
       "      <td>0.270267</td>\n",
       "      <td>-0.333913</td>\n",
       "    </tr>\n",
       "  </tbody>\n",
       "</table>\n",
       "<p>10 rows × 29 columns</p>\n",
       "</div>"
      ],
      "text/plain": [
       "         V1        V2        V3        V4        V5        V6        V7  \\\n",
       "0 -0.905252  1.232731  0.683559  0.012652  1.358511 -0.254129  1.898066   \n",
       "1 -1.847908  2.119865 -0.875599 -1.078042 -0.016920 -0.767172  0.531382   \n",
       "2 -0.140836 -0.303637  2.294315 -1.422036 -1.387915  0.279619 -1.070834   \n",
       "3 -4.198735  0.194121 -3.917586  3.920748 -1.875486 -2.118933 -3.614445   \n",
       "4 -0.934305  1.394167  1.707510 -0.182922 -0.059974 -1.081418  1.078031   \n",
       "5 -0.281005  1.195619 -0.106102 -0.590382  0.266178 -1.074682  0.714535   \n",
       "6 -0.266383  0.394598  1.332579 -0.631239  0.299064 -0.644056  0.779659   \n",
       "7  1.183120  0.408614  0.740999  2.580974 -0.144832  0.081847 -0.061532   \n",
       "8  1.245674  0.166975  0.488306  0.635322 -0.562777 -1.011073  0.014953   \n",
       "9 -3.005142  3.245751 -1.628285 -1.090845 -0.108972 -1.185605  0.744452   \n",
       "\n",
       "         V8        V9       V10  ...       V20       V21       V22       V23  \\\n",
       "0 -0.380180 -0.904601 -0.076524  ...  0.100210 -0.002120  0.328463 -0.698855   \n",
       "1  0.444832  0.845560  1.587990  ...  0.657388 -0.434762 -0.635526  0.109258   \n",
       "2 -0.587764 -0.896455  0.144522  ... -0.468192  0.626363 -0.314809 -0.300712   \n",
       "3  1.687884 -2.189871 -4.684233  ...  1.003350  0.801312 -0.183001 -0.440387   \n",
       "4 -0.498115  0.440596  1.036788  ...  0.609200 -0.401842 -0.543589 -0.033801   \n",
       "5  0.169922 -0.361994 -0.663133  ... -0.078900 -0.216640 -0.522549  0.090039   \n",
       "6 -0.619076  0.916360 -0.052682  ... -0.178343 -0.150175  0.016261  0.195920   \n",
       "7  0.038867 -0.214730  0.528982  ... -0.163165 -0.323377 -0.835170  0.024106   \n",
       "8 -0.160211  0.170362 -0.044575  ... -0.132080 -0.262581 -0.816264  0.140304   \n",
       "9  0.136761  2.379494  3.596699  ...  1.508013 -0.038671  1.137997  0.058913   \n",
       "\n",
       "        V24       V25       V26       V27       V28    AMOUNT  \n",
       "0 -0.376579  1.307757 -0.374461 -0.027436 -0.135352 -0.150152  \n",
       "1 -0.370988 -0.177327  0.115749  0.286479 -0.094258 -0.313372  \n",
       "2  0.091875  1.106761  0.812381  0.062791  0.143315 -0.175354  \n",
       "3  0.292539 -0.144967 -0.251744  1.249414 -0.131525  0.594925  \n",
       "4  0.683571 -0.134997  0.007814  0.257391 -0.133496 -0.329054  \n",
       "5 -0.088899 -0.410126  0.146386  0.129220  0.035133 -0.340944  \n",
       "6 -0.056361 -0.704178 -0.764693 -0.552502 -0.425813 -0.323011  \n",
       "7 -0.152089  0.433805 -0.148282  0.006526  0.021541 -0.318784  \n",
       "8  0.357827  0.186423  0.096544 -0.035866  0.018495 -0.313254  \n",
       "9  1.070088 -0.263812 -0.299221  1.028083  0.270267 -0.333913  \n",
       "\n",
       "[10 rows x 29 columns]"
      ]
     },
     "execution_count": 13,
     "metadata": {},
     "output_type": "execute_result"
    }
   ],
   "source": [
    "# Confirm table is populated properly\n",
    "sql = 'SELECT * FROM CC_PREDICT_SCALED'\n",
    "df_test = pd.read_sql(sql,conn)\n",
    "print('Successfully pulled test data from Db2!')\n",
    "df_test.head(10)"
   ]
  },
  {
   "cell_type": "markdown",
   "metadata": {},
   "source": [
    "## Model Selection and Training\n",
    "\n",
    "As the objective is to detect fraud, the evaluation metric will be Recall not Accuracy!\n",
    "\n",
    "When designing the model, Decision Tree Classifier was found to be the best, so training and evaluating the Logistic Regression Model and Stochastic Gradient Descent Model will be skipped for the purposes of this experiment"
   ]
  },
  {
   "cell_type": "code",
   "execution_count": null,
   "metadata": {},
   "outputs": [],
   "source": [
    "# Function for creating confusion matrix plot\n",
    "def print_confusion_matrix(confusion_matrix, class_names, figsize = (10,7), fontsize=14, title=''):\n",
    "    df_cm = pd.DataFrame(confusion_matrix, index=class_names, columns=class_names)\n",
    "    fig = plt.figure(figsize=figsize)\n",
    "    heatmap = sns.heatmap(df_cm, annot=True, fmt=\"d\")\n",
    "    heatmap.yaxis.set_ticklabels(heatmap.yaxis.get_ticklabels(), rotation=0, ha='right', fontsize=fontsize)\n",
    "    heatmap.xaxis.set_ticklabels(heatmap.xaxis.get_ticklabels(), rotation=45, ha='right', fontsize=fontsize)\n",
    "    plt.ylabel('True label')\n",
    "    plt.xlabel('Predicted label')\n",
    "    plt.title(title)\n",
    "    plt.show()"
   ]
  },
  {
   "cell_type": "code",
   "execution_count": null,
   "metadata": {},
   "outputs": [],
   "source": [
    "# Function for plotting learning curves\n",
    "\n",
    "def plot_learning_curve(model,X_train,y_train,title,scoring=None):\n",
    "    train_sizes, train_scores, test_scores = learning_curve(model, X_train, y_train,train_sizes=np.linspace(0.1, 1.0, 10), scoring=scoring) #, cv=ShuffleSplit(n_splits=100, test_size=0.2, random_state=42))\n",
    "    train_scores_mean = np.mean(train_scores, axis=1)\n",
    "    train_scores_std = np.std(train_scores, axis=1)\n",
    "    test_scores_mean = np.mean(test_scores, axis=1)\n",
    "    test_scores_std = np.std(test_scores, axis=1)\n",
    "    plt.fill_between(train_sizes, train_scores_mean - train_scores_std, train_scores_mean + train_scores_std, alpha=0.1, color=\"#ff9124\")\n",
    "    plt.fill_between(train_sizes, test_scores_mean - test_scores_std, test_scores_mean + test_scores_std, alpha=0.1, color=\"#2492ff\")\n",
    "    plt.plot(train_sizes, train_scores_mean, 'o-', color=\"#ff9124\", label=\"Training score\")\n",
    "    plt.plot(train_sizes, test_scores_mean, 'o-', color=\"#2492ff\", label=\"Cross-validation score\")\n",
    "    plt.title(title, fontsize=14)\n",
    "    plt.xlabel('Training size (m)')\n",
    "    plt.ylabel('Score')\n",
    "    plt.grid(True)\n",
    "    plt.legend(loc=\"best\")\n",
    "    plt.show()"
   ]
  },
  {
   "cell_type": "code",
   "execution_count": null,
   "metadata": {},
   "outputs": [],
   "source": [
    "# Decision Tree Classifier\n",
    "dtc = DecisionTreeClassifier()\n",
    "t0 = time()\n",
    "mod1 = dtc.fit(X_train_os,y_train_os)\n",
    "print('Decision Tree Classifier Training Time: ', round(time()-t0, 3), \"s\")\n",
    "print('-'*40)\n",
    "print('Decision Tree Classifier Training Accuracy: ', mod1.score(X_train_os,y_train_os))\n",
    "print('-'*40)\n",
    "print('Decision Tree Classifier Training Classification Report \\n', classification_report(y_train_os, mod1.predict(X_train_os)))\n",
    "print('-'*40)\n",
    "dtc_train_cm = confusion_matrix(y_train_os, mod1.predict(X_train_os))\n",
    "print_confusion_matrix(dtc_train_cm, ['Not Fraud', 'Fraud'], title='DTC Training Conf Mtx')\n",
    "#plot_learning_curve(mod1,X_train_os,y_train_os,\"Decision Tree Classifier Learning Curve\")"
   ]
  },
  {
   "cell_type": "code",
   "execution_count": null,
   "metadata": {
    "scrolled": true
   },
   "outputs": [],
   "source": [
    "# # Logistic Regression\n",
    "# logreg = LogisticRegression()\n",
    "# t0=time()\n",
    "# mod2 = logreg.fit(X_train_os,y_train_os)\n",
    "# print('Logistic Regression Training Time: ', round(time()-t0, 3), \"s\")\n",
    "# print('-'*40)\n",
    "# print('Logistic Regression Training Accuracy: ', mod2.score(X_train_os,y_train_os))\n",
    "# print('-'*40)\n",
    "# print('Logistic Regression Training Classification Report \\n', classification_report(y_train_os, mod2.predict(X_train_os)))\n",
    "# print('-'*40)\n",
    "# lr_train_cm = confusion_matrix(y_train_os, mod2.predict(X_train_os))\n",
    "# print_confusion_matrix(lr_train_cm, ['Not Fraud', 'Fraud'], title='LR Training Conf Mtx')\n",
    "# #plot_learning_curve(mod2,X_train_os,y_train_os,\"Logisitic Regression Learning Curve\")"
   ]
  },
  {
   "cell_type": "code",
   "execution_count": null,
   "metadata": {},
   "outputs": [],
   "source": [
    "# # Stochastic Gradient Descent Classifier\n",
    "# sgdc = SGDClassifier()\n",
    "# t0=time()\n",
    "# mod3 = sgdc.fit(X_train_os,y_train_os)\n",
    "# print('Support Vector Classifier Training Time: ', round(time()-t0, 3), \"s\")\n",
    "# print('-'*40)\n",
    "# print('SGD Classifier Training Accuracy: ', mod3.score(X_train_os,y_train_os))\n",
    "# print('-'*40)\n",
    "# print('SGC Classifier Training Classification Report \\n', classification_report(y_train_os, mod3.predict(X_train_os)))\n",
    "# print('-'*40)\n",
    "# sgdc_train_cm = confusion_matrix(y_train_os, mod3.predict(X_train_os))\n",
    "# print_confusion_matrix(sgdc_train_cm, ['Not Fraud', 'Fraud'], title='SGDC Training Conf Mtx')\n",
    "# #plot_learning_curve(mod3,X_train_os,y_train_os,\"SGD Learning Curve\")"
   ]
  },
  {
   "cell_type": "markdown",
   "metadata": {},
   "source": [
    "## Tune Model\n",
    "\n",
    "Select Decision Tree classifier for tuning"
   ]
  },
  {
   "cell_type": "code",
   "execution_count": null,
   "metadata": {},
   "outputs": [],
   "source": [
    "params = {\n",
    "    \"criterion\": [\"gini\", \"entropy\"], \n",
    "    \"max_depth\": list(range(1,4,1)), \n",
    "    \"min_samples_leaf\": list(range(1,7,1))\n",
    "}\n",
    "\n",
    "# use grid search cross validation to find best model\n",
    "grid_search = GridSearchCV(mod1,params,cv=5,n_jobs=3, verbose=5, scoring='recall') \n",
    "grid_search.fit(X_train_os,y_train_os)\n",
    "\n",
    "#Choose the best fitting model\n",
    "mod_best = grid_search.best_estimator_ \n",
    "print('Final Model has parameters: ', grid_search.best_params_)\n",
    "print('-'*40)\n",
    "#Train best model on training data\n",
    "mod_best.fit(X_train_os,y_train_os)\n",
    "\n",
    "print('Final Model Training Accuracy: ', mod_best.score(X_train_os,y_train_os))\n",
    "print('-'*40)\n",
    "print('Best Model Training Classification Report: \\n', classification_report(y_train_os, mod_best.predict(X_train_os)))\n",
    "print('-'*40)\n",
    "best_train_cm = confusion_matrix(y_train_os, mod_best.predict(X_train_os))\n",
    "print_confusion_matrix(best_train_cm, ['No Fraud', 'Fraud'], title='Best Model Training Conf Mtx')"
   ]
  },
  {
   "cell_type": "code",
   "execution_count": null,
   "metadata": {},
   "outputs": [],
   "source": [
    "plot_learning_curve(mod_best,X_train_os,y_train_os,\"Best Model Learning Curve\")\n",
    "plot_learning_curve(mod_best,X_train_os,y_train_os,\"Best Model Learning Curve (Recall)\",scoring='recall')"
   ]
  },
  {
   "cell_type": "markdown",
   "metadata": {},
   "source": [
    "## Model Evaluation"
   ]
  },
  {
   "cell_type": "code",
   "execution_count": null,
   "metadata": {},
   "outputs": [],
   "source": [
    "# Make prediction\n",
    "y_pred = mod_best.predict(X_test)\n",
    "print('Final Model Testing Accuracy: ', mod_best.score(X_test,y_test))\n",
    "print('-'*40)\n",
    "print('Final Model Testing Classification Report \\n', classification_report(y_test, y_pred))\n",
    "print('-'*40)\n",
    "\n",
    "# Plot confusion matrix\n",
    "final_cm = confusion_matrix(y_test,y_pred)\n",
    "print_confusion_matrix(final_cm, ['No Fraud', 'Fraud'], title='Final Model Testing Confusion Matrix')"
   ]
  },
  {
   "cell_type": "markdown",
   "metadata": {},
   "source": [
    "## Save Model and Scaler"
   ]
  },
  {
   "cell_type": "code",
   "execution_count": null,
   "metadata": {},
   "outputs": [],
   "source": [
    "# Store model\n",
    "dump(mod_best, 'test/saved_model.joblib') #/data2/home/apu/saved_model.joblib\n",
    "print('Model Saved!')\n",
    "# Store scaler\n",
    "dump(scaler, 'test/saved_scaler.joblib') #/data2/home/apu/saved_scaler.joblib\n",
    "print('Scaler Saved!')"
   ]
  }
 ],
 "metadata": {
  "kernelspec": {
   "display_name": "Python 3",
   "language": "python",
   "name": "python3"
  },
  "language_info": {
   "codemirror_mode": {
    "name": "ipython",
    "version": 3
   },
   "file_extension": ".py",
   "mimetype": "text/x-python",
   "name": "python",
   "nbconvert_exporter": "python",
   "pygments_lexer": "ipython3",
   "version": "3.7.1"
  }
 },
 "nbformat": 4,
 "nbformat_minor": 2
}
